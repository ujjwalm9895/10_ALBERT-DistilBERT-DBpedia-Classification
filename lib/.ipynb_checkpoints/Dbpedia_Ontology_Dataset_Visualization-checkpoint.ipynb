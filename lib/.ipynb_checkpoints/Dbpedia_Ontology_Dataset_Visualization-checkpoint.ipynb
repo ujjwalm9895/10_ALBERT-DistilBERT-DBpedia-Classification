{
 "cells": [
  {
   "cell_type": "markdown",
   "metadata": {
    "id": "3mddMnLz5kcX"
   },
   "source": [
    "### Dbpedia dataset description:\n",
    "\n",
    "* Used as a text classification benchmark in the following paper: Xiang Zhang, Junbo Zhao, Yann LeCun. Character-level Convolutional Networks for Text Classification.\n",
    "\n",
    "* The data is split into a training and test set with total 14 classes.\n",
    "\n",
    "* 40,000 training and 5,000 testing samples for each class.\n",
    "\n",
    "* Total size of the training dataset is 560,000 and testing dataset 70,000."
   ]
  },
  {
   "cell_type": "markdown",
   "metadata": {
    "id": "VBV8Ls4j8f78"
   },
   "source": [
    "### Install required libraries:\n",
    "Dataset library to be installed in order to use data present in HuggingFace datasets"
   ]
  },
  {
   "cell_type": "code",
   "execution_count": 1,
   "metadata": {
    "colab": {
     "base_uri": "https://localhost:8080/"
    },
    "id": "VPjACcxN0NI5",
    "outputId": "4f007454-dcce-4aa0-ac2c-8a70d5694f58"
   },
   "outputs": [
    {
     "name": "stdout",
     "output_type": "stream",
     "text": [
      "Collecting datasets\n",
      "  Downloading datasets-1.14.0-py3-none-any.whl (290 kB)\n",
      "\u001b[?25l\r",
      "\u001b[K     |█▏                              | 10 kB 31.9 MB/s eta 0:00:01\r",
      "\u001b[K     |██▎                             | 20 kB 34.9 MB/s eta 0:00:01\r",
      "\u001b[K     |███▍                            | 30 kB 20.7 MB/s eta 0:00:01\r",
      "\u001b[K     |████▌                           | 40 kB 16.7 MB/s eta 0:00:01\r",
      "\u001b[K     |█████▋                          | 51 kB 9.8 MB/s eta 0:00:01\r",
      "\u001b[K     |██████▊                         | 61 kB 9.5 MB/s eta 0:00:01\r",
      "\u001b[K     |████████                        | 71 kB 10.8 MB/s eta 0:00:01\r",
      "\u001b[K     |█████████                       | 81 kB 7.5 MB/s eta 0:00:01\r",
      "\u001b[K     |██████████▏                     | 92 kB 8.2 MB/s eta 0:00:01\r",
      "\u001b[K     |███████████▎                    | 102 kB 9.0 MB/s eta 0:00:01\r",
      "\u001b[K     |████████████▍                   | 112 kB 9.0 MB/s eta 0:00:01\r",
      "\u001b[K     |█████████████▌                  | 122 kB 9.0 MB/s eta 0:00:01\r",
      "\u001b[K     |██████████████▊                 | 133 kB 9.0 MB/s eta 0:00:01\r",
      "\u001b[K     |███████████████▉                | 143 kB 9.0 MB/s eta 0:00:01\r",
      "\u001b[K     |█████████████████               | 153 kB 9.0 MB/s eta 0:00:01\r",
      "\u001b[K     |██████████████████              | 163 kB 9.0 MB/s eta 0:00:01\r",
      "\u001b[K     |███████████████████▏            | 174 kB 9.0 MB/s eta 0:00:01\r",
      "\u001b[K     |████████████████████▎           | 184 kB 9.0 MB/s eta 0:00:01\r",
      "\u001b[K     |█████████████████████▍          | 194 kB 9.0 MB/s eta 0:00:01\r",
      "\u001b[K     |██████████████████████▋         | 204 kB 9.0 MB/s eta 0:00:01\r",
      "\u001b[K     |███████████████████████▊        | 215 kB 9.0 MB/s eta 0:00:01\r",
      "\u001b[K     |████████████████████████▉       | 225 kB 9.0 MB/s eta 0:00:01\r",
      "\u001b[K     |██████████████████████████      | 235 kB 9.0 MB/s eta 0:00:01\r",
      "\u001b[K     |███████████████████████████     | 245 kB 9.0 MB/s eta 0:00:01\r",
      "\u001b[K     |████████████████████████████▏   | 256 kB 9.0 MB/s eta 0:00:01\r",
      "\u001b[K     |█████████████████████████████▍  | 266 kB 9.0 MB/s eta 0:00:01\r",
      "\u001b[K     |██████████████████████████████▌ | 276 kB 9.0 MB/s eta 0:00:01\r",
      "\u001b[K     |███████████████████████████████▋| 286 kB 9.0 MB/s eta 0:00:01\r",
      "\u001b[K     |████████████████████████████████| 290 kB 9.0 MB/s \n",
      "\u001b[?25hRequirement already satisfied: pandas in /usr/local/lib/python3.7/dist-packages (from datasets) (1.1.5)\n",
      "Requirement already satisfied: importlib-metadata in /usr/local/lib/python3.7/dist-packages (from datasets) (4.8.1)\n",
      "Requirement already satisfied: tqdm>=4.62.1 in /usr/local/lib/python3.7/dist-packages (from datasets) (4.62.3)\n",
      "Collecting huggingface-hub<0.1.0,>=0.0.19\n",
      "  Downloading huggingface_hub-0.0.19-py3-none-any.whl (56 kB)\n",
      "\u001b[K     |████████████████████████████████| 56 kB 5.1 MB/s \n",
      "\u001b[?25hCollecting fsspec[http]>=2021.05.0\n",
      "  Downloading fsspec-2021.10.1-py3-none-any.whl (125 kB)\n",
      "\u001b[K     |████████████████████████████████| 125 kB 65.5 MB/s \n",
      "\u001b[?25hRequirement already satisfied: requests>=2.19.0 in /usr/local/lib/python3.7/dist-packages (from datasets) (2.23.0)\n",
      "Collecting xxhash\n",
      "  Downloading xxhash-2.0.2-cp37-cp37m-manylinux2010_x86_64.whl (243 kB)\n",
      "\u001b[K     |████████████████████████████████| 243 kB 68.4 MB/s \n",
      "\u001b[?25hRequirement already satisfied: pyarrow!=4.0.0,>=1.0.0 in /usr/local/lib/python3.7/dist-packages (from datasets) (3.0.0)\n",
      "Requirement already satisfied: packaging in /usr/local/lib/python3.7/dist-packages (from datasets) (21.0)\n",
      "Collecting aiohttp\n",
      "  Downloading aiohttp-3.7.4.post0-cp37-cp37m-manylinux2014_x86_64.whl (1.3 MB)\n",
      "\u001b[K     |████████████████████████████████| 1.3 MB 43.8 MB/s \n",
      "\u001b[?25hRequirement already satisfied: numpy>=1.17 in /usr/local/lib/python3.7/dist-packages (from datasets) (1.19.5)\n",
      "Requirement already satisfied: multiprocess in /usr/local/lib/python3.7/dist-packages (from datasets) (0.70.12.2)\n",
      "Requirement already satisfied: dill in /usr/local/lib/python3.7/dist-packages (from datasets) (0.3.4)\n",
      "Requirement already satisfied: pyyaml in /usr/local/lib/python3.7/dist-packages (from huggingface-hub<0.1.0,>=0.0.19->datasets) (3.13)\n",
      "Requirement already satisfied: filelock in /usr/local/lib/python3.7/dist-packages (from huggingface-hub<0.1.0,>=0.0.19->datasets) (3.3.0)\n",
      "Requirement already satisfied: typing-extensions in /usr/local/lib/python3.7/dist-packages (from huggingface-hub<0.1.0,>=0.0.19->datasets) (3.7.4.3)\n",
      "Requirement already satisfied: pyparsing>=2.0.2 in /usr/local/lib/python3.7/dist-packages (from packaging->datasets) (2.4.7)\n",
      "Requirement already satisfied: urllib3!=1.25.0,!=1.25.1,<1.26,>=1.21.1 in /usr/local/lib/python3.7/dist-packages (from requests>=2.19.0->datasets) (1.24.3)\n",
      "Requirement already satisfied: certifi>=2017.4.17 in /usr/local/lib/python3.7/dist-packages (from requests>=2.19.0->datasets) (2021.5.30)\n",
      "Requirement already satisfied: chardet<4,>=3.0.2 in /usr/local/lib/python3.7/dist-packages (from requests>=2.19.0->datasets) (3.0.4)\n",
      "Requirement already satisfied: idna<3,>=2.5 in /usr/local/lib/python3.7/dist-packages (from requests>=2.19.0->datasets) (2.10)\n",
      "Requirement already satisfied: attrs>=17.3.0 in /usr/local/lib/python3.7/dist-packages (from aiohttp->datasets) (21.2.0)\n",
      "Collecting yarl<2.0,>=1.0\n",
      "  Downloading yarl-1.7.0-cp37-cp37m-manylinux_2_5_x86_64.manylinux1_x86_64.manylinux_2_12_x86_64.manylinux2010_x86_64.whl (271 kB)\n",
      "\u001b[K     |████████████████████████████████| 271 kB 71.3 MB/s \n",
      "\u001b[?25hCollecting async-timeout<4.0,>=3.0\n",
      "  Downloading async_timeout-3.0.1-py3-none-any.whl (8.2 kB)\n",
      "Collecting multidict<7.0,>=4.5\n",
      "  Downloading multidict-5.2.0-cp37-cp37m-manylinux_2_5_x86_64.manylinux1_x86_64.manylinux_2_12_x86_64.manylinux2010_x86_64.whl (160 kB)\n",
      "\u001b[K     |████████████████████████████████| 160 kB 74.7 MB/s \n",
      "\u001b[?25hRequirement already satisfied: zipp>=0.5 in /usr/local/lib/python3.7/dist-packages (from importlib-metadata->datasets) (3.6.0)\n",
      "Requirement already satisfied: pytz>=2017.2 in /usr/local/lib/python3.7/dist-packages (from pandas->datasets) (2018.9)\n",
      "Requirement already satisfied: python-dateutil>=2.7.3 in /usr/local/lib/python3.7/dist-packages (from pandas->datasets) (2.8.2)\n",
      "Requirement already satisfied: six>=1.5 in /usr/local/lib/python3.7/dist-packages (from python-dateutil>=2.7.3->pandas->datasets) (1.15.0)\n",
      "Installing collected packages: multidict, yarl, async-timeout, fsspec, aiohttp, xxhash, huggingface-hub, datasets\n",
      "Successfully installed aiohttp-3.7.4.post0 async-timeout-3.0.1 datasets-1.14.0 fsspec-2021.10.1 huggingface-hub-0.0.19 multidict-5.2.0 xxhash-2.0.2 yarl-1.7.0\n"
     ]
    }
   ],
   "source": [
    "!pip install datasets"
   ]
  },
  {
   "cell_type": "markdown",
   "metadata": {
    "id": "DvixaFQu9LMK"
   },
   "source": [
    "### Import libraries:"
   ]
  },
  {
   "cell_type": "code",
   "execution_count": 2,
   "metadata": {
    "id": "2ddpPyaY8vCe"
   },
   "outputs": [],
   "source": [
    "import numpy as np\n",
    "import pandas as pd\n",
    "import matplotlib.pyplot as plt\n",
    "import seaborn as sns\n",
    "from datasets import list_datasets, load_dataset\n",
    "import warnings\n",
    "\n",
    "pd.set_option(\"display.max_columns\", None)\n",
    "warnings.simplefilter(action=\"ignore\")"
   ]
  },
  {
   "cell_type": "markdown",
   "metadata": {
    "id": "dTUy0Bvy9uhy"
   },
   "source": [
    "### Load Dbpedia  dataset:\n",
    "\n",
    "Below code throwing error ->\n",
    "\n",
    "* dbp_ont = load_dataset(\"dbpedia_14\")\n",
    "* dbp_ont_train = load_dataset(\"dbpedia_14\", split=\"train\")\n",
    "* dbp_ont_test = load_dataset(\"dbpedia_14\", split=\"test\")\n",
    "\n",
    "Normally this is how we load a hugging face dataset, but due to this error we will try a different option"
   ]
  },
  {
   "cell_type": "markdown",
   "metadata": {
    "id": "IUJOwL1fFnla"
   },
   "source": [
    "### Alternate download option for dataset:\n",
    "\n",
    "* Dbpedia_14 dataset throwing below error due to some changes/modifications\n",
    "\n",
    "* NonMatchingChecksumError: Checksums didn't match for dataset source files:\n",
    "\n",
    "* ['https://drive.google.com/uc?export=download&id=0Bz8a_Dbh9QhbQ2Vic1kxMmZZQ1k']"
   ]
  },
  {
   "cell_type": "code",
   "execution_count": 6,
   "metadata": {
    "colab": {
     "base_uri": "https://localhost:8080/"
    },
    "id": "DjNuRVxBGWsd",
    "outputId": "746193a4-0365-41d0-f144-587947db8ded"
   },
   "outputs": [
    {
     "name": "stdout",
     "output_type": "stream",
     "text": [
      "dbpedia_csv/\n",
      "dbpedia_csv/classes.txt\n",
      "dbpedia_csv/test.csv\n",
      "dbpedia_csv/train.csv\n",
      "dbpedia_csv/readme.txt\n"
     ]
    }
   ],
   "source": [
    "!tar -xvf /content/dbpedia_csv.tar.gz"
   ]
  },
  {
   "cell_type": "markdown",
   "metadata": {
    "id": "32yIqQdXPmpI"
   },
   "source": [
    "### Load associated files:\n",
    "\n",
    "Readme files and files containing information on classes present in the dataset in the form of .txt format "
   ]
  },
  {
   "cell_type": "code",
   "execution_count": 14,
   "metadata": {
    "colab": {
     "base_uri": "https://localhost:8080/"
    },
    "id": "-WLlzP9zHEqb",
    "outputId": "ed95c7b4-631f-45ef-b669-77a73cf662b8"
   },
   "outputs": [
    {
     "data": {
      "text/plain": [
       "['Company\\n',\n",
       " 'EducationalInstitution\\n',\n",
       " 'Artist\\n',\n",
       " 'Athlete\\n',\n",
       " 'OfficeHolder\\n',\n",
       " 'MeanOfTransportation\\n',\n",
       " 'Building\\n',\n",
       " 'NaturalPlace\\n',\n",
       " 'Village\\n',\n",
       " 'Animal\\n',\n",
       " 'Plant\\n',\n",
       " 'Album\\n',\n",
       " 'Film\\n',\n",
       " 'WrittenWork\\n']"
      ]
     },
     "execution_count": 14,
     "metadata": {},
     "output_type": "execute_result"
    }
   ],
   "source": [
    "with open('/content/dbpedia_csv/classes.txt') as cf:\n",
    "    c_data_lines = cf.readlines()\n",
    "    \n",
    "c_data_lines"
   ]
  },
  {
   "cell_type": "code",
   "execution_count": 16,
   "metadata": {
    "colab": {
     "base_uri": "https://localhost:8080/"
    },
    "id": "4d3qb1SJOy3d",
    "outputId": "257a743f-01d1-48c1-8df2-3f523bd57e9b"
   },
   "outputs": [
    {
     "data": {
      "text/plain": [
       "['DBPedia Ontology Classification Dataset\\n',\n",
       " '\\n',\n",
       " 'Version 2, Updated 09/09/2015\\n',\n",
       " '\\n',\n",
       " '\\n',\n",
       " 'LICENSE\\n',\n",
       " '\\n',\n",
       " 'The DBpedia datasets are licensed under the terms of the Creative Commons Attribution-ShareAlike License and the GNU Free Documentation License. For more information, please refer to http://dbpedia.org. For a recent overview paper about DBpedia, please refer to: Jens Lehmann, Robert Isele, Max Jakob, Anja Jentzsch, Dimitris Kontokostas, Pablo N. Mendes, Sebastian Hellmann, Mohamed Morsey, Patrick van Kleef, Sören Auer, Christian Bizer: DBpedia – A Large-scale, Multilingual Knowledge Base Extracted from Wikipedia. Semantic Web Journal, Vol. 6 No. 2, pp 167–195, 2015.\\n',\n",
       " '\\n',\n",
       " 'The DBPedia ontology classification dataset is constructed by Xiang Zhang (xiang.zhang@nyu.edu), licensed under the terms of the Creative Commons Attribution-ShareAlike License and the GNU Free Documentation License. It is used as a text classification benchmark in the following paper: Xiang Zhang, Junbo Zhao, Yann LeCun. Character-level Convolutional Networks for Text Classification. Advances in Neural Information Processing Systems 28 (NIPS 2015).\\n',\n",
       " '\\n',\n",
       " '\\n',\n",
       " 'DESCRIPTION\\n',\n",
       " '\\n',\n",
       " 'The DBpedia ontology classification dataset is constructed by picking 14 non-overlapping classes from DBpedia 2014. They are listed in classes.txt. From each of thse 14 ontology classes, we randomly choose 40,000 training samples and 5,000 testing samples. Therefore, the total size of the training dataset is 560,000 and testing dataset 70,000.\\n',\n",
       " '\\n',\n",
       " 'The files train.csv and test.csv contain all the training samples as comma-sparated values. There are 3 columns in them, corresponding to class index (1 to 14), title and content. The title and content are escaped using double quotes (\"), and any internal double quote is escaped by 2 double quotes (\"\"). There are no new lines in title or content.\\n']"
      ]
     },
     "execution_count": 16,
     "metadata": {},
     "output_type": "execute_result"
    }
   ],
   "source": [
    "with open('/content/dbpedia_csv/readme.txt') as rf:\n",
    "    r_data_lines = rf.readlines()\n",
    "\n",
    "r_data_lines"
   ]
  },
  {
   "cell_type": "markdown",
   "metadata": {
    "id": "HHtvQ5baPtBw"
   },
   "source": [
    "### Load train-test data:\n",
    "Dataset split present in .csv format"
   ]
  },
  {
   "cell_type": "code",
   "execution_count": 18,
   "metadata": {
    "id": "9Uly4G8pGqYJ"
   },
   "outputs": [],
   "source": [
    "dbp_ont_train = pd.read_csv(\"/content/dbpedia_csv/train.csv\", header=None)\n",
    "dbp_ont_test = pd.read_csv(\"/content/dbpedia_csv/test.csv\", header=None)"
   ]
  },
  {
   "cell_type": "code",
   "execution_count": 19,
   "metadata": {
    "colab": {
     "base_uri": "https://localhost:8080/",
     "height": 204
    },
    "id": "RBUwoiSRHY3x",
    "outputId": "87bdf666-51ca-45b5-c50b-9f51ed372cc4"
   },
   "outputs": [
    {
     "data": {
      "text/html": [
       "<div>\n",
       "<style scoped>\n",
       "    .dataframe tbody tr th:only-of-type {\n",
       "        vertical-align: middle;\n",
       "    }\n",
       "\n",
       "    .dataframe tbody tr th {\n",
       "        vertical-align: top;\n",
       "    }\n",
       "\n",
       "    .dataframe thead th {\n",
       "        text-align: right;\n",
       "    }\n",
       "</style>\n",
       "<table border=\"1\" class=\"dataframe\">\n",
       "  <thead>\n",
       "    <tr style=\"text-align: right;\">\n",
       "      <th></th>\n",
       "      <th>0</th>\n",
       "      <th>1</th>\n",
       "      <th>2</th>\n",
       "    </tr>\n",
       "  </thead>\n",
       "  <tbody>\n",
       "    <tr>\n",
       "      <th>0</th>\n",
       "      <td>1</td>\n",
       "      <td>E. D. Abbott Ltd</td>\n",
       "      <td>Abbott of Farnham E D Abbott Limited was a Br...</td>\n",
       "    </tr>\n",
       "    <tr>\n",
       "      <th>1</th>\n",
       "      <td>1</td>\n",
       "      <td>Schwan-Stabilo</td>\n",
       "      <td>Schwan-STABILO is a German maker of pens for ...</td>\n",
       "    </tr>\n",
       "    <tr>\n",
       "      <th>2</th>\n",
       "      <td>1</td>\n",
       "      <td>Q-workshop</td>\n",
       "      <td>Q-workshop is a Polish company located in Poz...</td>\n",
       "    </tr>\n",
       "    <tr>\n",
       "      <th>3</th>\n",
       "      <td>1</td>\n",
       "      <td>Marvell Software Solutions Israel</td>\n",
       "      <td>Marvell Software Solutions Israel known as RA...</td>\n",
       "    </tr>\n",
       "    <tr>\n",
       "      <th>4</th>\n",
       "      <td>1</td>\n",
       "      <td>Bergan Mercy Medical Center</td>\n",
       "      <td>Bergan Mercy Medical Center is a hospital loc...</td>\n",
       "    </tr>\n",
       "  </tbody>\n",
       "</table>\n",
       "</div>"
      ],
      "text/plain": [
       "   0                                  1  \\\n",
       "0  1                   E. D. Abbott Ltd   \n",
       "1  1                     Schwan-Stabilo   \n",
       "2  1                         Q-workshop   \n",
       "3  1  Marvell Software Solutions Israel   \n",
       "4  1        Bergan Mercy Medical Center   \n",
       "\n",
       "                                                   2  \n",
       "0   Abbott of Farnham E D Abbott Limited was a Br...  \n",
       "1   Schwan-STABILO is a German maker of pens for ...  \n",
       "2   Q-workshop is a Polish company located in Poz...  \n",
       "3   Marvell Software Solutions Israel known as RA...  \n",
       "4   Bergan Mercy Medical Center is a hospital loc...  "
      ]
     },
     "execution_count": 19,
     "metadata": {},
     "output_type": "execute_result"
    }
   ],
   "source": [
    "dbp_ont_train.head()"
   ]
  },
  {
   "cell_type": "code",
   "execution_count": 20,
   "metadata": {
    "colab": {
     "base_uri": "https://localhost:8080/"
    },
    "id": "ouknQMox-Kes",
    "outputId": "2a31f803-f2dd-43da-c179-c9f3c3f52485"
   },
   "outputs": [
    {
     "name": "stdout",
     "output_type": "stream",
     "text": [
      "Training Dataset columns : \n",
      " Int64Index([0, 1, 2], dtype='int64')\n",
      "\n",
      "Test Dataset columns : \n",
      " Int64Index([0, 1, 2], dtype='int64')\n"
     ]
    }
   ],
   "source": [
    "print(\"Training Dataset columns : \\n\", dbp_ont_train.columns)\n",
    "print(\"\\nTest Dataset columns : \\n\", dbp_ont_test.columns) "
   ]
  },
  {
   "cell_type": "code",
   "execution_count": 21,
   "metadata": {
    "colab": {
     "base_uri": "https://localhost:8080/",
     "height": 204
    },
    "id": "buSgr79ZPMVO",
    "outputId": "909de39c-5a33-4451-81e4-d282c1efbde4"
   },
   "outputs": [
    {
     "data": {
      "text/html": [
       "<div>\n",
       "<style scoped>\n",
       "    .dataframe tbody tr th:only-of-type {\n",
       "        vertical-align: middle;\n",
       "    }\n",
       "\n",
       "    .dataframe tbody tr th {\n",
       "        vertical-align: top;\n",
       "    }\n",
       "\n",
       "    .dataframe thead th {\n",
       "        text-align: right;\n",
       "    }\n",
       "</style>\n",
       "<table border=\"1\" class=\"dataframe\">\n",
       "  <thead>\n",
       "    <tr style=\"text-align: right;\">\n",
       "      <th></th>\n",
       "      <th>0</th>\n",
       "      <th>1</th>\n",
       "      <th>2</th>\n",
       "    </tr>\n",
       "  </thead>\n",
       "  <tbody>\n",
       "    <tr>\n",
       "      <th>0</th>\n",
       "      <td>1</td>\n",
       "      <td>TY KU</td>\n",
       "      <td>TY KU /taɪkuː/ is an American alcoholic bever...</td>\n",
       "    </tr>\n",
       "    <tr>\n",
       "      <th>1</th>\n",
       "      <td>1</td>\n",
       "      <td>Odd Lot Entertainment</td>\n",
       "      <td>OddLot Entertainment founded in 2001 by longt...</td>\n",
       "    </tr>\n",
       "    <tr>\n",
       "      <th>2</th>\n",
       "      <td>1</td>\n",
       "      <td>Henkel</td>\n",
       "      <td>Henkel AG &amp; Company KGaA operates worldwide w...</td>\n",
       "    </tr>\n",
       "    <tr>\n",
       "      <th>3</th>\n",
       "      <td>1</td>\n",
       "      <td>GOAT Store</td>\n",
       "      <td>The GOAT Store (Games Of All Type Store) LLC ...</td>\n",
       "    </tr>\n",
       "    <tr>\n",
       "      <th>4</th>\n",
       "      <td>1</td>\n",
       "      <td>RagWing Aircraft Designs</td>\n",
       "      <td>RagWing Aircraft Designs (also called the Rag...</td>\n",
       "    </tr>\n",
       "  </tbody>\n",
       "</table>\n",
       "</div>"
      ],
      "text/plain": [
       "   0                         1  \\\n",
       "0  1                     TY KU   \n",
       "1  1     Odd Lot Entertainment   \n",
       "2  1                    Henkel   \n",
       "3  1                GOAT Store   \n",
       "4  1  RagWing Aircraft Designs   \n",
       "\n",
       "                                                   2  \n",
       "0   TY KU /taɪkuː/ is an American alcoholic bever...  \n",
       "1   OddLot Entertainment founded in 2001 by longt...  \n",
       "2   Henkel AG & Company KGaA operates worldwide w...  \n",
       "3   The GOAT Store (Games Of All Type Store) LLC ...  \n",
       "4   RagWing Aircraft Designs (also called the Rag...  "
      ]
     },
     "execution_count": 21,
     "metadata": {},
     "output_type": "execute_result"
    }
   ],
   "source": [
    "dbp_ont_test.head()"
   ]
  },
  {
   "cell_type": "markdown",
   "metadata": {
    "id": "ffwMK0o1d73v"
   },
   "source": [
    "### Assign column names to dataset:\n",
    "\n",
    "Adding column names to the raw un-labelled dataset"
   ]
  },
  {
   "cell_type": "code",
   "execution_count": 22,
   "metadata": {
    "colab": {
     "base_uri": "https://localhost:8080/",
     "height": 204
    },
    "id": "Zc_84igZP2Pn",
    "outputId": "2fd3259f-1a01-4aea-8a2c-3ecda909ea40"
   },
   "outputs": [
    {
     "data": {
      "text/html": [
       "<div>\n",
       "<style scoped>\n",
       "    .dataframe tbody tr th:only-of-type {\n",
       "        vertical-align: middle;\n",
       "    }\n",
       "\n",
       "    .dataframe tbody tr th {\n",
       "        vertical-align: top;\n",
       "    }\n",
       "\n",
       "    .dataframe thead th {\n",
       "        text-align: right;\n",
       "    }\n",
       "</style>\n",
       "<table border=\"1\" class=\"dataframe\">\n",
       "  <thead>\n",
       "    <tr style=\"text-align: right;\">\n",
       "      <th></th>\n",
       "      <th>Labels</th>\n",
       "      <th>Title</th>\n",
       "      <th>Content</th>\n",
       "    </tr>\n",
       "  </thead>\n",
       "  <tbody>\n",
       "    <tr>\n",
       "      <th>0</th>\n",
       "      <td>1</td>\n",
       "      <td>E. D. Abbott Ltd</td>\n",
       "      <td>Abbott of Farnham E D Abbott Limited was a Br...</td>\n",
       "    </tr>\n",
       "    <tr>\n",
       "      <th>1</th>\n",
       "      <td>1</td>\n",
       "      <td>Schwan-Stabilo</td>\n",
       "      <td>Schwan-STABILO is a German maker of pens for ...</td>\n",
       "    </tr>\n",
       "    <tr>\n",
       "      <th>2</th>\n",
       "      <td>1</td>\n",
       "      <td>Q-workshop</td>\n",
       "      <td>Q-workshop is a Polish company located in Poz...</td>\n",
       "    </tr>\n",
       "    <tr>\n",
       "      <th>3</th>\n",
       "      <td>1</td>\n",
       "      <td>Marvell Software Solutions Israel</td>\n",
       "      <td>Marvell Software Solutions Israel known as RA...</td>\n",
       "    </tr>\n",
       "    <tr>\n",
       "      <th>4</th>\n",
       "      <td>1</td>\n",
       "      <td>Bergan Mercy Medical Center</td>\n",
       "      <td>Bergan Mercy Medical Center is a hospital loc...</td>\n",
       "    </tr>\n",
       "  </tbody>\n",
       "</table>\n",
       "</div>"
      ],
      "text/plain": [
       "   Labels                              Title  \\\n",
       "0       1                   E. D. Abbott Ltd   \n",
       "1       1                     Schwan-Stabilo   \n",
       "2       1                         Q-workshop   \n",
       "3       1  Marvell Software Solutions Israel   \n",
       "4       1        Bergan Mercy Medical Center   \n",
       "\n",
       "                                             Content  \n",
       "0   Abbott of Farnham E D Abbott Limited was a Br...  \n",
       "1   Schwan-STABILO is a German maker of pens for ...  \n",
       "2   Q-workshop is a Polish company located in Poz...  \n",
       "3   Marvell Software Solutions Israel known as RA...  \n",
       "4   Bergan Mercy Medical Center is a hospital loc...  "
      ]
     },
     "execution_count": 22,
     "metadata": {},
     "output_type": "execute_result"
    }
   ],
   "source": [
    "data_columns = [\"Labels\", \"Title\", \"Content\"]\n",
    "\n",
    "dbp_ont_train.columns = data_columns\n",
    "dbp_ont_test.columns = data_columns\n",
    "\n",
    "dbp_ont_train.head()"
   ]
  },
  {
   "cell_type": "code",
   "execution_count": 23,
   "metadata": {
    "colab": {
     "base_uri": "https://localhost:8080/",
     "height": 204
    },
    "id": "4CuZwSVXdzBP",
    "outputId": "bf4e17a2-f3c0-49ec-b6ac-fc5ef55e1f66"
   },
   "outputs": [
    {
     "data": {
      "text/html": [
       "<div>\n",
       "<style scoped>\n",
       "    .dataframe tbody tr th:only-of-type {\n",
       "        vertical-align: middle;\n",
       "    }\n",
       "\n",
       "    .dataframe tbody tr th {\n",
       "        vertical-align: top;\n",
       "    }\n",
       "\n",
       "    .dataframe thead th {\n",
       "        text-align: right;\n",
       "    }\n",
       "</style>\n",
       "<table border=\"1\" class=\"dataframe\">\n",
       "  <thead>\n",
       "    <tr style=\"text-align: right;\">\n",
       "      <th></th>\n",
       "      <th>Labels</th>\n",
       "      <th>Title</th>\n",
       "      <th>Content</th>\n",
       "    </tr>\n",
       "  </thead>\n",
       "  <tbody>\n",
       "    <tr>\n",
       "      <th>0</th>\n",
       "      <td>1</td>\n",
       "      <td>TY KU</td>\n",
       "      <td>TY KU /taɪkuː/ is an American alcoholic bever...</td>\n",
       "    </tr>\n",
       "    <tr>\n",
       "      <th>1</th>\n",
       "      <td>1</td>\n",
       "      <td>Odd Lot Entertainment</td>\n",
       "      <td>OddLot Entertainment founded in 2001 by longt...</td>\n",
       "    </tr>\n",
       "    <tr>\n",
       "      <th>2</th>\n",
       "      <td>1</td>\n",
       "      <td>Henkel</td>\n",
       "      <td>Henkel AG &amp; Company KGaA operates worldwide w...</td>\n",
       "    </tr>\n",
       "    <tr>\n",
       "      <th>3</th>\n",
       "      <td>1</td>\n",
       "      <td>GOAT Store</td>\n",
       "      <td>The GOAT Store (Games Of All Type Store) LLC ...</td>\n",
       "    </tr>\n",
       "    <tr>\n",
       "      <th>4</th>\n",
       "      <td>1</td>\n",
       "      <td>RagWing Aircraft Designs</td>\n",
       "      <td>RagWing Aircraft Designs (also called the Rag...</td>\n",
       "    </tr>\n",
       "  </tbody>\n",
       "</table>\n",
       "</div>"
      ],
      "text/plain": [
       "   Labels                     Title  \\\n",
       "0       1                     TY KU   \n",
       "1       1     Odd Lot Entertainment   \n",
       "2       1                    Henkel   \n",
       "3       1                GOAT Store   \n",
       "4       1  RagWing Aircraft Designs   \n",
       "\n",
       "                                             Content  \n",
       "0   TY KU /taɪkuː/ is an American alcoholic bever...  \n",
       "1   OddLot Entertainment founded in 2001 by longt...  \n",
       "2   Henkel AG & Company KGaA operates worldwide w...  \n",
       "3   The GOAT Store (Games Of All Type Store) LLC ...  \n",
       "4   RagWing Aircraft Designs (also called the Rag...  "
      ]
     },
     "execution_count": 23,
     "metadata": {},
     "output_type": "execute_result"
    }
   ],
   "source": [
    "dbp_ont_test.head()"
   ]
  },
  {
   "cell_type": "markdown",
   "metadata": {
    "id": "L4jv_ityfYEY"
   },
   "source": [
    "### Dataset information:\n",
    "Understanding the dataset with some general information visualization"
   ]
  },
  {
   "cell_type": "code",
   "execution_count": 24,
   "metadata": {
    "colab": {
     "base_uri": "https://localhost:8080/"
    },
    "id": "sQv5BP41d4t0",
    "outputId": "4f1d79a6-f577-4882-a74d-a37410b6ca8b"
   },
   "outputs": [
    {
     "name": "stdout",
     "output_type": "stream",
     "text": [
      "<class 'pandas.core.frame.DataFrame'>\n",
      "RangeIndex: 560000 entries, 0 to 559999\n",
      "Data columns (total 3 columns):\n",
      " #   Column   Non-Null Count   Dtype \n",
      "---  ------   --------------   ----- \n",
      " 0   Labels   560000 non-null  int64 \n",
      " 1   Title    560000 non-null  object\n",
      " 2   Content  560000 non-null  object\n",
      "dtypes: int64(1), object(2)\n",
      "memory usage: 12.8+ MB\n"
     ]
    }
   ],
   "source": [
    "dbp_ont_train.info()"
   ]
  },
  {
   "cell_type": "code",
   "execution_count": 25,
   "metadata": {
    "colab": {
     "base_uri": "https://localhost:8080/"
    },
    "id": "Q7hmaR1LfdZV",
    "outputId": "0b81e3bf-c4b2-4c34-bb9a-2879452219b8"
   },
   "outputs": [
    {
     "name": "stdout",
     "output_type": "stream",
     "text": [
      "<class 'pandas.core.frame.DataFrame'>\n",
      "RangeIndex: 70000 entries, 0 to 69999\n",
      "Data columns (total 3 columns):\n",
      " #   Column   Non-Null Count  Dtype \n",
      "---  ------   --------------  ----- \n",
      " 0   Labels   70000 non-null  int64 \n",
      " 1   Title    70000 non-null  object\n",
      " 2   Content  70000 non-null  object\n",
      "dtypes: int64(1), object(2)\n",
      "memory usage: 1.6+ MB\n"
     ]
    }
   ],
   "source": [
    "dbp_ont_test.info()"
   ]
  },
  {
   "cell_type": "code",
   "execution_count": 27,
   "metadata": {
    "colab": {
     "base_uri": "https://localhost:8080/"
    },
    "id": "hQZTkSPJfg5M",
    "outputId": "ba3dae9b-ae13-47f0-ba54-fb1e32ba5a2f"
   },
   "outputs": [
    {
     "name": "stdout",
     "output_type": "stream",
     "text": [
      "Train dataset shape: [ (560000, 3) ]\n",
      "\n",
      "Test dataset shape: [ (70000, 3) ]\n",
      "\n"
     ]
    }
   ],
   "source": [
    "print(\"Train dataset shape: [\", dbp_ont_train.shape, \"]\\n\")\n",
    "print(\"Test dataset shape: [\", dbp_ont_test.shape, \"]\\n\")"
   ]
  },
  {
   "cell_type": "code",
   "execution_count": 29,
   "metadata": {
    "colab": {
     "base_uri": "https://localhost:8080/",
     "height": 80
    },
    "id": "a64n3_rSf4Ps",
    "outputId": "d923332f-59b9-4de3-a49f-3621dd87787f"
   },
   "outputs": [
    {
     "data": {
      "text/html": [
       "<div>\n",
       "<style scoped>\n",
       "    .dataframe tbody tr th:only-of-type {\n",
       "        vertical-align: middle;\n",
       "    }\n",
       "\n",
       "    .dataframe tbody tr th {\n",
       "        vertical-align: top;\n",
       "    }\n",
       "\n",
       "    .dataframe thead th {\n",
       "        text-align: right;\n",
       "    }\n",
       "</style>\n",
       "<table border=\"1\" class=\"dataframe\">\n",
       "  <thead>\n",
       "    <tr style=\"text-align: right;\">\n",
       "      <th></th>\n",
       "      <th>count</th>\n",
       "      <th>mean</th>\n",
       "      <th>std</th>\n",
       "      <th>min</th>\n",
       "      <th>25%</th>\n",
       "      <th>50%</th>\n",
       "      <th>75%</th>\n",
       "      <th>max</th>\n",
       "    </tr>\n",
       "  </thead>\n",
       "  <tbody>\n",
       "    <tr>\n",
       "      <th>Labels</th>\n",
       "      <td>560000.0</td>\n",
       "      <td>7.5</td>\n",
       "      <td>4.031132</td>\n",
       "      <td>1.0</td>\n",
       "      <td>4.0</td>\n",
       "      <td>7.5</td>\n",
       "      <td>11.0</td>\n",
       "      <td>14.0</td>\n",
       "    </tr>\n",
       "  </tbody>\n",
       "</table>\n",
       "</div>"
      ],
      "text/plain": [
       "           count  mean       std  min  25%  50%   75%   max\n",
       "Labels  560000.0   7.5  4.031132  1.0  4.0  7.5  11.0  14.0"
      ]
     },
     "execution_count": 29,
     "metadata": {},
     "output_type": "execute_result"
    }
   ],
   "source": [
    "dbp_ont_train.describe().transpose()"
   ]
  },
  {
   "cell_type": "code",
   "execution_count": 30,
   "metadata": {
    "colab": {
     "base_uri": "https://localhost:8080/",
     "height": 80
    },
    "id": "qOjn8-u9jPSc",
    "outputId": "6b08fd00-9d89-4b9f-8621-f15b410dc739"
   },
   "outputs": [
    {
     "data": {
      "text/html": [
       "<div>\n",
       "<style scoped>\n",
       "    .dataframe tbody tr th:only-of-type {\n",
       "        vertical-align: middle;\n",
       "    }\n",
       "\n",
       "    .dataframe tbody tr th {\n",
       "        vertical-align: top;\n",
       "    }\n",
       "\n",
       "    .dataframe thead th {\n",
       "        text-align: right;\n",
       "    }\n",
       "</style>\n",
       "<table border=\"1\" class=\"dataframe\">\n",
       "  <thead>\n",
       "    <tr style=\"text-align: right;\">\n",
       "      <th></th>\n",
       "      <th>count</th>\n",
       "      <th>mean</th>\n",
       "      <th>std</th>\n",
       "      <th>min</th>\n",
       "      <th>25%</th>\n",
       "      <th>50%</th>\n",
       "      <th>75%</th>\n",
       "      <th>max</th>\n",
       "    </tr>\n",
       "  </thead>\n",
       "  <tbody>\n",
       "    <tr>\n",
       "      <th>Labels</th>\n",
       "      <td>70000.0</td>\n",
       "      <td>7.5</td>\n",
       "      <td>4.031158</td>\n",
       "      <td>1.0</td>\n",
       "      <td>4.0</td>\n",
       "      <td>7.5</td>\n",
       "      <td>11.0</td>\n",
       "      <td>14.0</td>\n",
       "    </tr>\n",
       "  </tbody>\n",
       "</table>\n",
       "</div>"
      ],
      "text/plain": [
       "          count  mean       std  min  25%  50%   75%   max\n",
       "Labels  70000.0   7.5  4.031158  1.0  4.0  7.5  11.0  14.0"
      ]
     },
     "execution_count": 30,
     "metadata": {},
     "output_type": "execute_result"
    }
   ],
   "source": [
    "dbp_ont_test.describe().transpose()"
   ]
  },
  {
   "cell_type": "code",
   "execution_count": 31,
   "metadata": {
    "colab": {
     "base_uri": "https://localhost:8080/"
    },
    "id": "ZbERFmrhjVJD",
    "outputId": "08bd53da-a4dd-430b-eb4e-e2284002f645"
   },
   "outputs": [
    {
     "data": {
      "text/plain": [
       "Labels      int64\n",
       "Title      object\n",
       "Content    object\n",
       "dtype: object"
      ]
     },
     "execution_count": 31,
     "metadata": {},
     "output_type": "execute_result"
    }
   ],
   "source": [
    "dbp_ont_train.dtypes"
   ]
  },
  {
   "cell_type": "code",
   "execution_count": 32,
   "metadata": {
    "colab": {
     "base_uri": "https://localhost:8080/"
    },
    "id": "X55lVyRUjhYj",
    "outputId": "0fa1b0fd-2c09-4ee2-f48f-982f94f1cab9"
   },
   "outputs": [
    {
     "data": {
      "text/plain": [
       "Labels      int64\n",
       "Title      object\n",
       "Content    object\n",
       "dtype: object"
      ]
     },
     "execution_count": 32,
     "metadata": {},
     "output_type": "execute_result"
    }
   ],
   "source": [
    "dbp_ont_test.dtypes"
   ]
  },
  {
   "cell_type": "code",
   "execution_count": 33,
   "metadata": {
    "colab": {
     "base_uri": "https://localhost:8080/"
    },
    "id": "z9iFHPJ2jjvr",
    "outputId": "48f607c4-c101-4918-c0ad-1087e49981d8"
   },
   "outputs": [
    {
     "data": {
      "text/plain": [
       "array([ 1,  2,  3,  4,  5,  6,  7,  8,  9, 10, 11, 12, 13, 14])"
      ]
     },
     "execution_count": 33,
     "metadata": {},
     "output_type": "execute_result"
    }
   ],
   "source": [
    "dbp_ont_train.Labels.unique()"
   ]
  },
  {
   "cell_type": "code",
   "execution_count": 34,
   "metadata": {
    "colab": {
     "base_uri": "https://localhost:8080/"
    },
    "id": "-QETLb_YknJm",
    "outputId": "65f61699-ff03-4bcb-df5c-ba5e443bdf63"
   },
   "outputs": [
    {
     "data": {
      "text/plain": [
       "array([ 1,  2,  3,  4,  5,  6,  7,  8,  9, 10, 11, 12, 13, 14])"
      ]
     },
     "execution_count": 34,
     "metadata": {},
     "output_type": "execute_result"
    }
   ],
   "source": [
    "dbp_ont_test.Labels.unique()"
   ]
  },
  {
   "cell_type": "code",
   "execution_count": 37,
   "metadata": {
    "colab": {
     "base_uri": "https://localhost:8080/"
    },
    "id": "VNPojoVBkqFD",
    "outputId": "8f26beaa-7f46-4f7d-d4a2-9ec348e57f7e"
   },
   "outputs": [
    {
     "data": {
      "text/plain": [
       "14    40000\n",
       "13    40000\n",
       "12    40000\n",
       "11    40000\n",
       "10    40000\n",
       "9     40000\n",
       "8     40000\n",
       "7     40000\n",
       "6     40000\n",
       "5     40000\n",
       "4     40000\n",
       "3     40000\n",
       "2     40000\n",
       "1     40000\n",
       "Name: Labels, dtype: int64"
      ]
     },
     "execution_count": 37,
     "metadata": {},
     "output_type": "execute_result"
    }
   ],
   "source": [
    "dbp_ont_train[\"Labels\"].value_counts()"
   ]
  },
  {
   "cell_type": "code",
   "execution_count": 38,
   "metadata": {
    "colab": {
     "base_uri": "https://localhost:8080/"
    },
    "id": "dMLTwchJk5FE",
    "outputId": "856416c3-0588-4603-b4c8-c39162158afb"
   },
   "outputs": [
    {
     "data": {
      "text/plain": [
       "14    5000\n",
       "13    5000\n",
       "12    5000\n",
       "11    5000\n",
       "10    5000\n",
       "9     5000\n",
       "8     5000\n",
       "7     5000\n",
       "6     5000\n",
       "5     5000\n",
       "4     5000\n",
       "3     5000\n",
       "2     5000\n",
       "1     5000\n",
       "Name: Labels, dtype: int64"
      ]
     },
     "execution_count": 38,
     "metadata": {},
     "output_type": "execute_result"
    }
   ],
   "source": [
    "dbp_ont_test[\"Labels\"].value_counts()"
   ]
  },
  {
   "cell_type": "code",
   "execution_count": 42,
   "metadata": {
    "colab": {
     "base_uri": "https://localhost:8080/",
     "height": 545
    },
    "id": "ts3yEP92lDdQ",
    "outputId": "b8d05993-e7dd-45a1-cfed-a165661afff1"
   },
   "outputs": [
    {
     "data": {
      "text/html": [
       "<div>\n",
       "<style scoped>\n",
       "    .dataframe tbody tr th:only-of-type {\n",
       "        vertical-align: middle;\n",
       "    }\n",
       "\n",
       "    .dataframe tbody tr th {\n",
       "        vertical-align: top;\n",
       "    }\n",
       "\n",
       "    .dataframe thead tr th {\n",
       "        text-align: left;\n",
       "    }\n",
       "\n",
       "    .dataframe thead tr:last-of-type th {\n",
       "        text-align: right;\n",
       "    }\n",
       "</style>\n",
       "<table border=\"1\" class=\"dataframe\">\n",
       "  <thead>\n",
       "    <tr>\n",
       "      <th></th>\n",
       "      <th colspan=\"4\" halign=\"left\">Title</th>\n",
       "      <th colspan=\"4\" halign=\"left\">Content</th>\n",
       "    </tr>\n",
       "    <tr>\n",
       "      <th></th>\n",
       "      <th>count</th>\n",
       "      <th>unique</th>\n",
       "      <th>top</th>\n",
       "      <th>freq</th>\n",
       "      <th>count</th>\n",
       "      <th>unique</th>\n",
       "      <th>top</th>\n",
       "      <th>freq</th>\n",
       "    </tr>\n",
       "    <tr>\n",
       "      <th>Labels</th>\n",
       "      <th></th>\n",
       "      <th></th>\n",
       "      <th></th>\n",
       "      <th></th>\n",
       "      <th></th>\n",
       "      <th></th>\n",
       "      <th></th>\n",
       "      <th></th>\n",
       "    </tr>\n",
       "  </thead>\n",
       "  <tbody>\n",
       "    <tr>\n",
       "      <th>1</th>\n",
       "      <td>40000</td>\n",
       "      <td>40000</td>\n",
       "      <td>Maclaren</td>\n",
       "      <td>1</td>\n",
       "      <td>40000</td>\n",
       "      <td>39996</td>\n",
       "      <td>MegaPath Corporation—headquartered in Pleasan...</td>\n",
       "      <td>2</td>\n",
       "    </tr>\n",
       "    <tr>\n",
       "      <th>2</th>\n",
       "      <td>40000</td>\n",
       "      <td>40000</td>\n",
       "      <td>Cégep de Saint-Hyacinthe</td>\n",
       "      <td>1</td>\n",
       "      <td>40000</td>\n",
       "      <td>39992</td>\n",
       "      <td>St. Croix Country Day School is an independen...</td>\n",
       "      <td>2</td>\n",
       "    </tr>\n",
       "    <tr>\n",
       "      <th>3</th>\n",
       "      <td>40000</td>\n",
       "      <td>40000</td>\n",
       "      <td>Jason White (musician)</td>\n",
       "      <td>1</td>\n",
       "      <td>40000</td>\n",
       "      <td>40000</td>\n",
       "      <td>Aliki Liacouras Brandenberg (born September 3...</td>\n",
       "      <td>1</td>\n",
       "    </tr>\n",
       "    <tr>\n",
       "      <th>4</th>\n",
       "      <td>40000</td>\n",
       "      <td>40000</td>\n",
       "      <td>Ellie van den Brom</td>\n",
       "      <td>1</td>\n",
       "      <td>40000</td>\n",
       "      <td>40000</td>\n",
       "      <td>Maurice Smith (born 28 September 1980 in St. ...</td>\n",
       "      <td>1</td>\n",
       "    </tr>\n",
       "    <tr>\n",
       "      <th>5</th>\n",
       "      <td>40000</td>\n",
       "      <td>40000</td>\n",
       "      <td>Luz Robles</td>\n",
       "      <td>1</td>\n",
       "      <td>40000</td>\n",
       "      <td>39998</td>\n",
       "      <td>Dr.</td>\n",
       "      <td>3</td>\n",
       "    </tr>\n",
       "    <tr>\n",
       "      <th>6</th>\n",
       "      <td>40000</td>\n",
       "      <td>40000</td>\n",
       "      <td>Bristol Type 123</td>\n",
       "      <td>1</td>\n",
       "      <td>40000</td>\n",
       "      <td>39998</td>\n",
       "      <td>The Hero Karizma ZMR is a motorcycle manufact...</td>\n",
       "      <td>2</td>\n",
       "    </tr>\n",
       "    <tr>\n",
       "      <th>7</th>\n",
       "      <td>40000</td>\n",
       "      <td>40000</td>\n",
       "      <td>Cornelison Pottery</td>\n",
       "      <td>1</td>\n",
       "      <td>40000</td>\n",
       "      <td>39998</td>\n",
       "      <td>Kuo Yuan Ye (Chinese: 郭元益; pinyin: Guōyuányì)...</td>\n",
       "      <td>2</td>\n",
       "    </tr>\n",
       "    <tr>\n",
       "      <th>8</th>\n",
       "      <td>40000</td>\n",
       "      <td>40000</td>\n",
       "      <td>Porumbăcelu River</td>\n",
       "      <td>1</td>\n",
       "      <td>40000</td>\n",
       "      <td>39927</td>\n",
       "      <td>Steinkopf is a mountain of Hesse Germany.</td>\n",
       "      <td>4</td>\n",
       "    </tr>\n",
       "    <tr>\n",
       "      <th>9</th>\n",
       "      <td>40000</td>\n",
       "      <td>40000</td>\n",
       "      <td>Kanigówek</td>\n",
       "      <td>1</td>\n",
       "      <td>40000</td>\n",
       "      <td>39999</td>\n",
       "      <td>Chah Amiq-e Astan Qods (Persian: چاه عميق است...</td>\n",
       "      <td>2</td>\n",
       "    </tr>\n",
       "    <tr>\n",
       "      <th>10</th>\n",
       "      <td>40000</td>\n",
       "      <td>40000</td>\n",
       "      <td>Trematolestes</td>\n",
       "      <td>1</td>\n",
       "      <td>40000</td>\n",
       "      <td>39995</td>\n",
       "      <td>Typhlops leucomelas is a species of snake in ...</td>\n",
       "      <td>2</td>\n",
       "    </tr>\n",
       "    <tr>\n",
       "      <th>11</th>\n",
       "      <td>40000</td>\n",
       "      <td>40000</td>\n",
       "      <td>Chamerion angustifolium</td>\n",
       "      <td>1</td>\n",
       "      <td>40000</td>\n",
       "      <td>39993</td>\n",
       "      <td>The 'Buzz' series of Buddleja davidii cultiva...</td>\n",
       "      <td>4</td>\n",
       "    </tr>\n",
       "    <tr>\n",
       "      <th>12</th>\n",
       "      <td>40000</td>\n",
       "      <td>40000</td>\n",
       "      <td>Futurelook (album)</td>\n",
       "      <td>1</td>\n",
       "      <td>40000</td>\n",
       "      <td>39999</td>\n",
       "      <td>Before Smile Empty Soul became Smile Empty So...</td>\n",
       "      <td>2</td>\n",
       "    </tr>\n",
       "    <tr>\n",
       "      <th>13</th>\n",
       "      <td>40000</td>\n",
       "      <td>40000</td>\n",
       "      <td>Nur Kasih The Movie</td>\n",
       "      <td>1</td>\n",
       "      <td>40000</td>\n",
       "      <td>40000</td>\n",
       "      <td>Kicking the Moon Around is a 1938 British mus...</td>\n",
       "      <td>1</td>\n",
       "    </tr>\n",
       "    <tr>\n",
       "      <th>14</th>\n",
       "      <td>40000</td>\n",
       "      <td>40000</td>\n",
       "      <td>Criminal Justice Policy Review</td>\n",
       "      <td>1</td>\n",
       "      <td>40000</td>\n",
       "      <td>39984</td>\n",
       "      <td>Tom Clancy's Net Force Explorers or Net Force...</td>\n",
       "      <td>15</td>\n",
       "    </tr>\n",
       "  </tbody>\n",
       "</table>\n",
       "</div>"
      ],
      "text/plain": [
       "        Title                                             Content         \\\n",
       "        count unique                             top freq   count unique   \n",
       "Labels                                                                     \n",
       "1       40000  40000                        Maclaren    1   40000  39996   \n",
       "2       40000  40000        Cégep de Saint-Hyacinthe    1   40000  39992   \n",
       "3       40000  40000          Jason White (musician)    1   40000  40000   \n",
       "4       40000  40000              Ellie van den Brom    1   40000  40000   \n",
       "5       40000  40000                      Luz Robles    1   40000  39998   \n",
       "6       40000  40000                Bristol Type 123    1   40000  39998   \n",
       "7       40000  40000              Cornelison Pottery    1   40000  39998   \n",
       "8       40000  40000               Porumbăcelu River    1   40000  39927   \n",
       "9       40000  40000                       Kanigówek    1   40000  39999   \n",
       "10      40000  40000                   Trematolestes    1   40000  39995   \n",
       "11      40000  40000         Chamerion angustifolium    1   40000  39993   \n",
       "12      40000  40000              Futurelook (album)    1   40000  39999   \n",
       "13      40000  40000             Nur Kasih The Movie    1   40000  40000   \n",
       "14      40000  40000  Criminal Justice Policy Review    1   40000  39984   \n",
       "\n",
       "                                                                \n",
       "                                                      top freq  \n",
       "Labels                                                          \n",
       "1        MegaPath Corporation—headquartered in Pleasan...    2  \n",
       "2        St. Croix Country Day School is an independen...    2  \n",
       "3        Aliki Liacouras Brandenberg (born September 3...    1  \n",
       "4        Maurice Smith (born 28 September 1980 in St. ...    1  \n",
       "5                                                     Dr.    3  \n",
       "6        The Hero Karizma ZMR is a motorcycle manufact...    2  \n",
       "7        Kuo Yuan Ye (Chinese: 郭元益; pinyin: Guōyuányì)...    2  \n",
       "8               Steinkopf is a mountain of Hesse Germany.    4  \n",
       "9        Chah Amiq-e Astan Qods (Persian: چاه عميق است...    2  \n",
       "10       Typhlops leucomelas is a species of snake in ...    2  \n",
       "11       The 'Buzz' series of Buddleja davidii cultiva...    4  \n",
       "12       Before Smile Empty Soul became Smile Empty So...    2  \n",
       "13       Kicking the Moon Around is a 1938 British mus...    1  \n",
       "14       Tom Clancy's Net Force Explorers or Net Force...   15  "
      ]
     },
     "execution_count": 42,
     "metadata": {},
     "output_type": "execute_result"
    }
   ],
   "source": [
    "dbp_ont_train.groupby(\"Labels\").describe()"
   ]
  },
  {
   "cell_type": "code",
   "execution_count": 41,
   "metadata": {
    "colab": {
     "base_uri": "https://localhost:8080/",
     "height": 613
    },
    "id": "NZGEtgEYlZ_7",
    "outputId": "7e85fb52-f3e9-44f5-d4d1-dc97d8ae60e3"
   },
   "outputs": [
    {
     "data": {
      "text/html": [
       "<div>\n",
       "<style scoped>\n",
       "    .dataframe tbody tr th:only-of-type {\n",
       "        vertical-align: middle;\n",
       "    }\n",
       "\n",
       "    .dataframe tbody tr th {\n",
       "        vertical-align: top;\n",
       "    }\n",
       "\n",
       "    .dataframe thead tr th {\n",
       "        text-align: left;\n",
       "    }\n",
       "\n",
       "    .dataframe thead tr:last-of-type th {\n",
       "        text-align: right;\n",
       "    }\n",
       "</style>\n",
       "<table border=\"1\" class=\"dataframe\">\n",
       "  <thead>\n",
       "    <tr>\n",
       "      <th></th>\n",
       "      <th colspan=\"4\" halign=\"left\">Title</th>\n",
       "      <th colspan=\"4\" halign=\"left\">Content</th>\n",
       "    </tr>\n",
       "    <tr>\n",
       "      <th></th>\n",
       "      <th>count</th>\n",
       "      <th>unique</th>\n",
       "      <th>top</th>\n",
       "      <th>freq</th>\n",
       "      <th>count</th>\n",
       "      <th>unique</th>\n",
       "      <th>top</th>\n",
       "      <th>freq</th>\n",
       "    </tr>\n",
       "    <tr>\n",
       "      <th>Labels</th>\n",
       "      <th></th>\n",
       "      <th></th>\n",
       "      <th></th>\n",
       "      <th></th>\n",
       "      <th></th>\n",
       "      <th></th>\n",
       "      <th></th>\n",
       "      <th></th>\n",
       "    </tr>\n",
       "  </thead>\n",
       "  <tbody>\n",
       "    <tr>\n",
       "      <th>1</th>\n",
       "      <td>5000</td>\n",
       "      <td>5000</td>\n",
       "      <td>Vivint</td>\n",
       "      <td>1</td>\n",
       "      <td>5000</td>\n",
       "      <td>5000</td>\n",
       "      <td>Perazzi is a manufacturer of precision shotgu...</td>\n",
       "      <td>1</td>\n",
       "    </tr>\n",
       "    <tr>\n",
       "      <th>2</th>\n",
       "      <td>5000</td>\n",
       "      <td>5000</td>\n",
       "      <td>Magnificat Academy</td>\n",
       "      <td>1</td>\n",
       "      <td>5000</td>\n",
       "      <td>5000</td>\n",
       "      <td>Not to be confused with Twyford School.Twyfor...</td>\n",
       "      <td>1</td>\n",
       "    </tr>\n",
       "    <tr>\n",
       "      <th>3</th>\n",
       "      <td>5000</td>\n",
       "      <td>5000</td>\n",
       "      <td>Michael Hayvoronsky</td>\n",
       "      <td>1</td>\n",
       "      <td>5000</td>\n",
       "      <td>5000</td>\n",
       "      <td>Darrin C Huss is the vocalist and lyricist of...</td>\n",
       "      <td>1</td>\n",
       "    </tr>\n",
       "    <tr>\n",
       "      <th>4</th>\n",
       "      <td>5000</td>\n",
       "      <td>5000</td>\n",
       "      <td>Bryan Rosenfeld</td>\n",
       "      <td>1</td>\n",
       "      <td>5000</td>\n",
       "      <td>5000</td>\n",
       "      <td>Rebecca Roche was born in New Zealand on 26 A...</td>\n",
       "      <td>1</td>\n",
       "    </tr>\n",
       "    <tr>\n",
       "      <th>5</th>\n",
       "      <td>5000</td>\n",
       "      <td>5000</td>\n",
       "      <td>Winnie Monsod</td>\n",
       "      <td>1</td>\n",
       "      <td>5000</td>\n",
       "      <td>5000</td>\n",
       "      <td>Edward James McMurray PC (June 4 1878 – April...</td>\n",
       "      <td>1</td>\n",
       "    </tr>\n",
       "    <tr>\n",
       "      <th>6</th>\n",
       "      <td>5000</td>\n",
       "      <td>5000</td>\n",
       "      <td>El Condesito</td>\n",
       "      <td>1</td>\n",
       "      <td>5000</td>\n",
       "      <td>5000</td>\n",
       "      <td>German submarine U-312 was a Type VIIC U-boat...</td>\n",
       "      <td>1</td>\n",
       "    </tr>\n",
       "    <tr>\n",
       "      <th>7</th>\n",
       "      <td>5000</td>\n",
       "      <td>5000</td>\n",
       "      <td>Nova Institution for Women</td>\n",
       "      <td>1</td>\n",
       "      <td>5000</td>\n",
       "      <td>5000</td>\n",
       "      <td>The Old Swan Hotel in Harrogate North Yorkshi...</td>\n",
       "      <td>1</td>\n",
       "    </tr>\n",
       "    <tr>\n",
       "      <th>8</th>\n",
       "      <td>5000</td>\n",
       "      <td>5000</td>\n",
       "      <td>Chef Menteur Pass</td>\n",
       "      <td>1</td>\n",
       "      <td>5000</td>\n",
       "      <td>5000</td>\n",
       "      <td>The Suha Mare River is a tributary of the Mol...</td>\n",
       "      <td>1</td>\n",
       "    </tr>\n",
       "    <tr>\n",
       "      <th>9</th>\n",
       "      <td>5000</td>\n",
       "      <td>5000</td>\n",
       "      <td>Moeydeleh-ye Olya</td>\n",
       "      <td>1</td>\n",
       "      <td>5000</td>\n",
       "      <td>5000</td>\n",
       "      <td>Ludwinów [ludˈvinuf] is a village in the admi...</td>\n",
       "      <td>1</td>\n",
       "    </tr>\n",
       "    <tr>\n",
       "      <th>10</th>\n",
       "      <td>5000</td>\n",
       "      <td>5000</td>\n",
       "      <td>Amblyptila cynanchi</td>\n",
       "      <td>1</td>\n",
       "      <td>5000</td>\n",
       "      <td>5000</td>\n",
       "      <td>Gofasia tenuicula is a species of minute sea ...</td>\n",
       "      <td>1</td>\n",
       "    </tr>\n",
       "    <tr>\n",
       "      <th>11</th>\n",
       "      <td>5000</td>\n",
       "      <td>5000</td>\n",
       "      <td>Anthurium spathulifolium</td>\n",
       "      <td>1</td>\n",
       "      <td>5000</td>\n",
       "      <td>5000</td>\n",
       "      <td>Acer platanoides 'Pendulum' or Weeping Norway...</td>\n",
       "      <td>1</td>\n",
       "    </tr>\n",
       "    <tr>\n",
       "      <th>12</th>\n",
       "      <td>5000</td>\n",
       "      <td>5000</td>\n",
       "      <td>Lillian (album)</td>\n",
       "      <td>1</td>\n",
       "      <td>5000</td>\n",
       "      <td>5000</td>\n",
       "      <td>Safe As Fuck is the second studio album by Go...</td>\n",
       "      <td>1</td>\n",
       "    </tr>\n",
       "    <tr>\n",
       "      <th>13</th>\n",
       "      <td>5000</td>\n",
       "      <td>5000</td>\n",
       "      <td>The Great Man</td>\n",
       "      <td>1</td>\n",
       "      <td>5000</td>\n",
       "      <td>5000</td>\n",
       "      <td>Awaargi is a 1990 Bollywood drama film direct...</td>\n",
       "      <td>1</td>\n",
       "    </tr>\n",
       "    <tr>\n",
       "      <th>14</th>\n",
       "      <td>5000</td>\n",
       "      <td>5000</td>\n",
       "      <td>Conan Scourge of the Bloody Coast</td>\n",
       "      <td>1</td>\n",
       "      <td>5000</td>\n",
       "      <td>5000</td>\n",
       "      <td>Leonora is a novel written by Maria Edgeworth...</td>\n",
       "      <td>1</td>\n",
       "    </tr>\n",
       "  </tbody>\n",
       "</table>\n",
       "</div>"
      ],
      "text/plain": [
       "       Title                                                Content         \\\n",
       "       count unique                                top freq   count unique   \n",
       "Labels                                                                       \n",
       "1       5000   5000                             Vivint    1    5000   5000   \n",
       "2       5000   5000                 Magnificat Academy    1    5000   5000   \n",
       "3       5000   5000                Michael Hayvoronsky    1    5000   5000   \n",
       "4       5000   5000                    Bryan Rosenfeld    1    5000   5000   \n",
       "5       5000   5000                      Winnie Monsod    1    5000   5000   \n",
       "6       5000   5000                       El Condesito    1    5000   5000   \n",
       "7       5000   5000         Nova Institution for Women    1    5000   5000   \n",
       "8       5000   5000                  Chef Menteur Pass    1    5000   5000   \n",
       "9       5000   5000                  Moeydeleh-ye Olya    1    5000   5000   \n",
       "10      5000   5000                Amblyptila cynanchi    1    5000   5000   \n",
       "11      5000   5000           Anthurium spathulifolium    1    5000   5000   \n",
       "12      5000   5000                    Lillian (album)    1    5000   5000   \n",
       "13      5000   5000                      The Great Man    1    5000   5000   \n",
       "14      5000   5000  Conan Scourge of the Bloody Coast    1    5000   5000   \n",
       "\n",
       "                                                                \n",
       "                                                      top freq  \n",
       "Labels                                                          \n",
       "1        Perazzi is a manufacturer of precision shotgu...    1  \n",
       "2        Not to be confused with Twyford School.Twyfor...    1  \n",
       "3        Darrin C Huss is the vocalist and lyricist of...    1  \n",
       "4        Rebecca Roche was born in New Zealand on 26 A...    1  \n",
       "5        Edward James McMurray PC (June 4 1878 – April...    1  \n",
       "6        German submarine U-312 was a Type VIIC U-boat...    1  \n",
       "7        The Old Swan Hotel in Harrogate North Yorkshi...    1  \n",
       "8        The Suha Mare River is a tributary of the Mol...    1  \n",
       "9        Ludwinów [ludˈvinuf] is a village in the admi...    1  \n",
       "10       Gofasia tenuicula is a species of minute sea ...    1  \n",
       "11       Acer platanoides 'Pendulum' or Weeping Norway...    1  \n",
       "12       Safe As Fuck is the second studio album by Go...    1  \n",
       "13       Awaargi is a 1990 Bollywood drama film direct...    1  \n",
       "14       Leonora is a novel written by Maria Edgeworth...    1  "
      ]
     },
     "execution_count": 41,
     "metadata": {},
     "output_type": "execute_result"
    }
   ],
   "source": [
    "dbp_ont_test.groupby(\"Labels\").describe()"
   ]
  },
  {
   "cell_type": "code",
   "execution_count": 43,
   "metadata": {
    "colab": {
     "base_uri": "https://localhost:8080/"
    },
    "id": "rS4XXDlDql9G",
    "outputId": "fd1dde63-7c4d-48ec-8513-00e4095dcded"
   },
   "outputs": [
    {
     "data": {
      "text/plain": [
       "Labels     0\n",
       "Title      0\n",
       "Content    0\n",
       "dtype: int64"
      ]
     },
     "execution_count": 43,
     "metadata": {},
     "output_type": "execute_result"
    }
   ],
   "source": [
    "dbp_ont_train.isnull().sum()"
   ]
  },
  {
   "cell_type": "code",
   "execution_count": 44,
   "metadata": {
    "colab": {
     "base_uri": "https://localhost:8080/"
    },
    "id": "uFBcPAg5qruV",
    "outputId": "a651eed7-fc25-46ca-a030-5c87c3dc807c"
   },
   "outputs": [
    {
     "data": {
      "text/plain": [
       "Labels     0\n",
       "Title      0\n",
       "Content    0\n",
       "dtype: int64"
      ]
     },
     "execution_count": 44,
     "metadata": {},
     "output_type": "execute_result"
    }
   ],
   "source": [
    "dbp_ont_test.isnull().sum()"
   ]
  },
  {
   "cell_type": "markdown",
   "metadata": {
    "id": "Jh0ZLkrcl1v3"
   },
   "source": [
    "### Modify & save dataset for transformer fine-tuning:\n",
    "For our transformer models, we need the text data correctly labelled with appropriate headers."
   ]
  },
  {
   "cell_type": "code",
   "execution_count": 46,
   "metadata": {
    "colab": {
     "base_uri": "https://localhost:8080/"
    },
    "id": "1tPWDMOelmKz",
    "outputId": "a494ee6f-c135-4a30-9379-a710135cf3b3"
   },
   "outputs": [
    {
     "data": {
      "text/plain": [
       "['Company',\n",
       " 'EducationalInstitution',\n",
       " 'Artist',\n",
       " 'Athlete',\n",
       " 'OfficeHolder',\n",
       " 'MeanOfTransportation',\n",
       " 'Building',\n",
       " 'NaturalPlace',\n",
       " 'Village',\n",
       " 'Animal',\n",
       " 'Plant',\n",
       " 'Album',\n",
       " 'Film',\n",
       " 'WrittenWork']"
      ]
     },
     "execution_count": 46,
     "metadata": {},
     "output_type": "execute_result"
    }
   ],
   "source": [
    "class_names = []\n",
    "\n",
    "for ele in c_data_lines:\n",
    "    class_names.append(ele.replace(\"\\n\", \"\"))\n",
    "\n",
    "class_names"
   ]
  },
  {
   "cell_type": "code",
   "execution_count": 48,
   "metadata": {
    "colab": {
     "base_uri": "https://localhost:8080/",
     "height": 204
    },
    "id": "BTcTogInteFm",
    "outputId": "d1979ae4-c110-4df5-a341-802cf4bc3c10"
   },
   "outputs": [
    {
     "data": {
      "text/html": [
       "<div>\n",
       "<style scoped>\n",
       "    .dataframe tbody tr th:only-of-type {\n",
       "        vertical-align: middle;\n",
       "    }\n",
       "\n",
       "    .dataframe tbody tr th {\n",
       "        vertical-align: top;\n",
       "    }\n",
       "\n",
       "    .dataframe thead th {\n",
       "        text-align: right;\n",
       "    }\n",
       "</style>\n",
       "<table border=\"1\" class=\"dataframe\">\n",
       "  <thead>\n",
       "    <tr style=\"text-align: right;\">\n",
       "      <th></th>\n",
       "      <th>Labels</th>\n",
       "      <th>Title</th>\n",
       "      <th>Content</th>\n",
       "    </tr>\n",
       "  </thead>\n",
       "  <tbody>\n",
       "    <tr>\n",
       "      <th>0</th>\n",
       "      <td>Company</td>\n",
       "      <td>E. D. Abbott Ltd</td>\n",
       "      <td>Abbott of Farnham E D Abbott Limited was a Br...</td>\n",
       "    </tr>\n",
       "    <tr>\n",
       "      <th>1</th>\n",
       "      <td>Company</td>\n",
       "      <td>Schwan-Stabilo</td>\n",
       "      <td>Schwan-STABILO is a German maker of pens for ...</td>\n",
       "    </tr>\n",
       "    <tr>\n",
       "      <th>2</th>\n",
       "      <td>Company</td>\n",
       "      <td>Q-workshop</td>\n",
       "      <td>Q-workshop is a Polish company located in Poz...</td>\n",
       "    </tr>\n",
       "    <tr>\n",
       "      <th>3</th>\n",
       "      <td>Company</td>\n",
       "      <td>Marvell Software Solutions Israel</td>\n",
       "      <td>Marvell Software Solutions Israel known as RA...</td>\n",
       "    </tr>\n",
       "    <tr>\n",
       "      <th>4</th>\n",
       "      <td>Company</td>\n",
       "      <td>Bergan Mercy Medical Center</td>\n",
       "      <td>Bergan Mercy Medical Center is a hospital loc...</td>\n",
       "    </tr>\n",
       "  </tbody>\n",
       "</table>\n",
       "</div>"
      ],
      "text/plain": [
       "    Labels                              Title  \\\n",
       "0  Company                   E. D. Abbott Ltd   \n",
       "1  Company                     Schwan-Stabilo   \n",
       "2  Company                         Q-workshop   \n",
       "3  Company  Marvell Software Solutions Israel   \n",
       "4  Company        Bergan Mercy Medical Center   \n",
       "\n",
       "                                             Content  \n",
       "0   Abbott of Farnham E D Abbott Limited was a Br...  \n",
       "1   Schwan-STABILO is a German maker of pens for ...  \n",
       "2   Q-workshop is a Polish company located in Poz...  \n",
       "3   Marvell Software Solutions Israel known as RA...  \n",
       "4   Bergan Mercy Medical Center is a hospital loc...  "
      ]
     },
     "execution_count": 48,
     "metadata": {},
     "output_type": "execute_result"
    }
   ],
   "source": [
    "class_name_dict = {\n",
    "    1: \"Company\", \n",
    "    2: \"EducationalInstitution\", \n",
    "    3: \"Artist\", \n",
    "    4: \"Athlete\", \n",
    "    5: \"OfficeHolder\", \n",
    "    6: \"MeanOfTransportation\", \n",
    "    7: \"Building\", \n",
    "    8: \"NaturalPlace\",\n",
    "    9: \"Village\", \n",
    "    10: \"Animal\", \n",
    "    11: \"Plant\", \n",
    "    12: \"Album\",\n",
    "    13: \"Film\", \n",
    "    14: \"WrittenWork\"\n",
    "}\n",
    "\n",
    "dbp_ont_train[\"Labels\"] = dbp_ont_train[\"Labels\"].map(class_name_dict)\n",
    "dbp_ont_train.head()"
   ]
  },
  {
   "cell_type": "code",
   "execution_count": 49,
   "metadata": {
    "colab": {
     "base_uri": "https://localhost:8080/",
     "height": 204
    },
    "id": "D6XiWor9yRxF",
    "outputId": "419e2fe4-0963-440a-c4bb-aeb727d580cc"
   },
   "outputs": [
    {
     "data": {
      "text/html": [
       "<div>\n",
       "<style scoped>\n",
       "    .dataframe tbody tr th:only-of-type {\n",
       "        vertical-align: middle;\n",
       "    }\n",
       "\n",
       "    .dataframe tbody tr th {\n",
       "        vertical-align: top;\n",
       "    }\n",
       "\n",
       "    .dataframe thead th {\n",
       "        text-align: right;\n",
       "    }\n",
       "</style>\n",
       "<table border=\"1\" class=\"dataframe\">\n",
       "  <thead>\n",
       "    <tr style=\"text-align: right;\">\n",
       "      <th></th>\n",
       "      <th>Labels</th>\n",
       "      <th>Title</th>\n",
       "      <th>Content</th>\n",
       "    </tr>\n",
       "  </thead>\n",
       "  <tbody>\n",
       "    <tr>\n",
       "      <th>0</th>\n",
       "      <td>Company</td>\n",
       "      <td>TY KU</td>\n",
       "      <td>TY KU /taɪkuː/ is an American alcoholic bever...</td>\n",
       "    </tr>\n",
       "    <tr>\n",
       "      <th>1</th>\n",
       "      <td>Company</td>\n",
       "      <td>Odd Lot Entertainment</td>\n",
       "      <td>OddLot Entertainment founded in 2001 by longt...</td>\n",
       "    </tr>\n",
       "    <tr>\n",
       "      <th>2</th>\n",
       "      <td>Company</td>\n",
       "      <td>Henkel</td>\n",
       "      <td>Henkel AG &amp; Company KGaA operates worldwide w...</td>\n",
       "    </tr>\n",
       "    <tr>\n",
       "      <th>3</th>\n",
       "      <td>Company</td>\n",
       "      <td>GOAT Store</td>\n",
       "      <td>The GOAT Store (Games Of All Type Store) LLC ...</td>\n",
       "    </tr>\n",
       "    <tr>\n",
       "      <th>4</th>\n",
       "      <td>Company</td>\n",
       "      <td>RagWing Aircraft Designs</td>\n",
       "      <td>RagWing Aircraft Designs (also called the Rag...</td>\n",
       "    </tr>\n",
       "  </tbody>\n",
       "</table>\n",
       "</div>"
      ],
      "text/plain": [
       "    Labels                     Title  \\\n",
       "0  Company                     TY KU   \n",
       "1  Company     Odd Lot Entertainment   \n",
       "2  Company                    Henkel   \n",
       "3  Company                GOAT Store   \n",
       "4  Company  RagWing Aircraft Designs   \n",
       "\n",
       "                                             Content  \n",
       "0   TY KU /taɪkuː/ is an American alcoholic bever...  \n",
       "1   OddLot Entertainment founded in 2001 by longt...  \n",
       "2   Henkel AG & Company KGaA operates worldwide w...  \n",
       "3   The GOAT Store (Games Of All Type Store) LLC ...  \n",
       "4   RagWing Aircraft Designs (also called the Rag...  "
      ]
     },
     "execution_count": 49,
     "metadata": {},
     "output_type": "execute_result"
    }
   ],
   "source": [
    "dbp_ont_test[\"Labels\"] = dbp_ont_test[\"Labels\"].map(class_name_dict)\n",
    "dbp_ont_test.head()"
   ]
  },
  {
   "cell_type": "markdown",
   "metadata": {
    "id": "U06ZOtYIzRbJ"
   },
   "source": [
    "### Drop redundant columns:\n",
    "Keeping only required columns for training and validating our transformer models"
   ]
  },
  {
   "cell_type": "code",
   "execution_count": 51,
   "metadata": {
    "id": "I7skGI-qyjfi"
   },
   "outputs": [],
   "source": [
    "dbp_ont_train.drop(columns=[\"Title\"], axis=1, inplace=True)\n",
    "dbp_ont_test.drop(columns=[\"Title\"], axis=1, inplace=True)"
   ]
  },
  {
   "cell_type": "code",
   "execution_count": 52,
   "metadata": {
    "colab": {
     "base_uri": "https://localhost:8080/",
     "height": 204
    },
    "id": "c-VhYb69ziYI",
    "outputId": "7cca0f4c-e504-462c-9817-6fa27518bdc6"
   },
   "outputs": [
    {
     "data": {
      "text/html": [
       "<div>\n",
       "<style scoped>\n",
       "    .dataframe tbody tr th:only-of-type {\n",
       "        vertical-align: middle;\n",
       "    }\n",
       "\n",
       "    .dataframe tbody tr th {\n",
       "        vertical-align: top;\n",
       "    }\n",
       "\n",
       "    .dataframe thead th {\n",
       "        text-align: right;\n",
       "    }\n",
       "</style>\n",
       "<table border=\"1\" class=\"dataframe\">\n",
       "  <thead>\n",
       "    <tr style=\"text-align: right;\">\n",
       "      <th></th>\n",
       "      <th>Labels</th>\n",
       "      <th>Content</th>\n",
       "    </tr>\n",
       "  </thead>\n",
       "  <tbody>\n",
       "    <tr>\n",
       "      <th>0</th>\n",
       "      <td>Company</td>\n",
       "      <td>Abbott of Farnham E D Abbott Limited was a Br...</td>\n",
       "    </tr>\n",
       "    <tr>\n",
       "      <th>1</th>\n",
       "      <td>Company</td>\n",
       "      <td>Schwan-STABILO is a German maker of pens for ...</td>\n",
       "    </tr>\n",
       "    <tr>\n",
       "      <th>2</th>\n",
       "      <td>Company</td>\n",
       "      <td>Q-workshop is a Polish company located in Poz...</td>\n",
       "    </tr>\n",
       "    <tr>\n",
       "      <th>3</th>\n",
       "      <td>Company</td>\n",
       "      <td>Marvell Software Solutions Israel known as RA...</td>\n",
       "    </tr>\n",
       "    <tr>\n",
       "      <th>4</th>\n",
       "      <td>Company</td>\n",
       "      <td>Bergan Mercy Medical Center is a hospital loc...</td>\n",
       "    </tr>\n",
       "  </tbody>\n",
       "</table>\n",
       "</div>"
      ],
      "text/plain": [
       "    Labels                                            Content\n",
       "0  Company   Abbott of Farnham E D Abbott Limited was a Br...\n",
       "1  Company   Schwan-STABILO is a German maker of pens for ...\n",
       "2  Company   Q-workshop is a Polish company located in Poz...\n",
       "3  Company   Marvell Software Solutions Israel known as RA...\n",
       "4  Company   Bergan Mercy Medical Center is a hospital loc..."
      ]
     },
     "execution_count": 52,
     "metadata": {},
     "output_type": "execute_result"
    }
   ],
   "source": [
    "dbp_ont_train.head()"
   ]
  },
  {
   "cell_type": "code",
   "execution_count": 53,
   "metadata": {
    "colab": {
     "base_uri": "https://localhost:8080/",
     "height": 204
    },
    "id": "Z38eahPszr7q",
    "outputId": "bae2abae-717f-4a19-c5c8-fd9bd4c0bba9"
   },
   "outputs": [
    {
     "data": {
      "text/html": [
       "<div>\n",
       "<style scoped>\n",
       "    .dataframe tbody tr th:only-of-type {\n",
       "        vertical-align: middle;\n",
       "    }\n",
       "\n",
       "    .dataframe tbody tr th {\n",
       "        vertical-align: top;\n",
       "    }\n",
       "\n",
       "    .dataframe thead th {\n",
       "        text-align: right;\n",
       "    }\n",
       "</style>\n",
       "<table border=\"1\" class=\"dataframe\">\n",
       "  <thead>\n",
       "    <tr style=\"text-align: right;\">\n",
       "      <th></th>\n",
       "      <th>Labels</th>\n",
       "      <th>Content</th>\n",
       "    </tr>\n",
       "  </thead>\n",
       "  <tbody>\n",
       "    <tr>\n",
       "      <th>0</th>\n",
       "      <td>Company</td>\n",
       "      <td>TY KU /taɪkuː/ is an American alcoholic bever...</td>\n",
       "    </tr>\n",
       "    <tr>\n",
       "      <th>1</th>\n",
       "      <td>Company</td>\n",
       "      <td>OddLot Entertainment founded in 2001 by longt...</td>\n",
       "    </tr>\n",
       "    <tr>\n",
       "      <th>2</th>\n",
       "      <td>Company</td>\n",
       "      <td>Henkel AG &amp; Company KGaA operates worldwide w...</td>\n",
       "    </tr>\n",
       "    <tr>\n",
       "      <th>3</th>\n",
       "      <td>Company</td>\n",
       "      <td>The GOAT Store (Games Of All Type Store) LLC ...</td>\n",
       "    </tr>\n",
       "    <tr>\n",
       "      <th>4</th>\n",
       "      <td>Company</td>\n",
       "      <td>RagWing Aircraft Designs (also called the Rag...</td>\n",
       "    </tr>\n",
       "  </tbody>\n",
       "</table>\n",
       "</div>"
      ],
      "text/plain": [
       "    Labels                                            Content\n",
       "0  Company   TY KU /taɪkuː/ is an American alcoholic bever...\n",
       "1  Company   OddLot Entertainment founded in 2001 by longt...\n",
       "2  Company   Henkel AG & Company KGaA operates worldwide w...\n",
       "3  Company   The GOAT Store (Games Of All Type Store) LLC ...\n",
       "4  Company   RagWing Aircraft Designs (also called the Rag..."
      ]
     },
     "execution_count": 53,
     "metadata": {},
     "output_type": "execute_result"
    }
   ],
   "source": [
    "dbp_ont_test.head()"
   ]
  },
  {
   "cell_type": "markdown",
   "metadata": {
    "id": "7sC9cqq8zx29"
   },
   "source": [
    "### Save Dataset:\n",
    "Saving dataset for Transformer model training and validation"
   ]
  },
  {
   "cell_type": "code",
   "execution_count": 55,
   "metadata": {
    "id": "e6g7ARg2zvTp"
   },
   "outputs": [],
   "source": [
    "dbp_ont_train.to_csv(\"/content/dbpedia_14_train.csv\", index=None)\n",
    "dbp_ont_test.to_csv(\"/content/dbpedia_14_test.csv\", index=None)"
   ]
  },
  {
   "cell_type": "markdown",
   "metadata": {
    "id": "aRf7JZk11hdh"
   },
   "source": [
    "### Adding text length for visualization:\n",
    "Adding length of text data as a feature for better visualization"
   ]
  },
  {
   "cell_type": "code",
   "execution_count": 56,
   "metadata": {
    "colab": {
     "base_uri": "https://localhost:8080/",
     "height": 204
    },
    "id": "BhHz14Ew1lux",
    "outputId": "940c3037-13a1-4e3e-c754-f45389b84f5a"
   },
   "outputs": [
    {
     "data": {
      "text/html": [
       "<div>\n",
       "<style scoped>\n",
       "    .dataframe tbody tr th:only-of-type {\n",
       "        vertical-align: middle;\n",
       "    }\n",
       "\n",
       "    .dataframe tbody tr th {\n",
       "        vertical-align: top;\n",
       "    }\n",
       "\n",
       "    .dataframe thead th {\n",
       "        text-align: right;\n",
       "    }\n",
       "</style>\n",
       "<table border=\"1\" class=\"dataframe\">\n",
       "  <thead>\n",
       "    <tr style=\"text-align: right;\">\n",
       "      <th></th>\n",
       "      <th>Labels</th>\n",
       "      <th>Content</th>\n",
       "      <th>Length</th>\n",
       "    </tr>\n",
       "  </thead>\n",
       "  <tbody>\n",
       "    <tr>\n",
       "      <th>0</th>\n",
       "      <td>Company</td>\n",
       "      <td>Abbott of Farnham E D Abbott Limited was a Br...</td>\n",
       "      <td>248</td>\n",
       "    </tr>\n",
       "    <tr>\n",
       "      <th>1</th>\n",
       "      <td>Company</td>\n",
       "      <td>Schwan-STABILO is a German maker of pens for ...</td>\n",
       "      <td>202</td>\n",
       "    </tr>\n",
       "    <tr>\n",
       "      <th>2</th>\n",
       "      <td>Company</td>\n",
       "      <td>Q-workshop is a Polish company located in Poz...</td>\n",
       "      <td>490</td>\n",
       "    </tr>\n",
       "    <tr>\n",
       "      <th>3</th>\n",
       "      <td>Company</td>\n",
       "      <td>Marvell Software Solutions Israel known as RA...</td>\n",
       "      <td>210</td>\n",
       "    </tr>\n",
       "    <tr>\n",
       "      <th>4</th>\n",
       "      <td>Company</td>\n",
       "      <td>Bergan Mercy Medical Center is a hospital loc...</td>\n",
       "      <td>110</td>\n",
       "    </tr>\n",
       "  </tbody>\n",
       "</table>\n",
       "</div>"
      ],
      "text/plain": [
       "    Labels                                            Content  Length\n",
       "0  Company   Abbott of Farnham E D Abbott Limited was a Br...     248\n",
       "1  Company   Schwan-STABILO is a German maker of pens for ...     202\n",
       "2  Company   Q-workshop is a Polish company located in Poz...     490\n",
       "3  Company   Marvell Software Solutions Israel known as RA...     210\n",
       "4  Company   Bergan Mercy Medical Center is a hospital loc...     110"
      ]
     },
     "execution_count": 56,
     "metadata": {},
     "output_type": "execute_result"
    }
   ],
   "source": [
    "dbp_ont_train[\"Length\"] = dbp_ont_train[\"Content\"].apply(len)\n",
    "dbp_ont_train.head()"
   ]
  },
  {
   "cell_type": "code",
   "execution_count": 57,
   "metadata": {
    "colab": {
     "base_uri": "https://localhost:8080/",
     "height": 204
    },
    "id": "YUqVwYrM1yhl",
    "outputId": "b7df3532-5d57-4c00-ced4-d778f2b24ac4"
   },
   "outputs": [
    {
     "data": {
      "text/html": [
       "<div>\n",
       "<style scoped>\n",
       "    .dataframe tbody tr th:only-of-type {\n",
       "        vertical-align: middle;\n",
       "    }\n",
       "\n",
       "    .dataframe tbody tr th {\n",
       "        vertical-align: top;\n",
       "    }\n",
       "\n",
       "    .dataframe thead th {\n",
       "        text-align: right;\n",
       "    }\n",
       "</style>\n",
       "<table border=\"1\" class=\"dataframe\">\n",
       "  <thead>\n",
       "    <tr style=\"text-align: right;\">\n",
       "      <th></th>\n",
       "      <th>Labels</th>\n",
       "      <th>Content</th>\n",
       "      <th>Length</th>\n",
       "    </tr>\n",
       "  </thead>\n",
       "  <tbody>\n",
       "    <tr>\n",
       "      <th>0</th>\n",
       "      <td>Company</td>\n",
       "      <td>TY KU /taɪkuː/ is an American alcoholic bever...</td>\n",
       "      <td>377</td>\n",
       "    </tr>\n",
       "    <tr>\n",
       "      <th>1</th>\n",
       "      <td>Company</td>\n",
       "      <td>OddLot Entertainment founded in 2001 by longt...</td>\n",
       "      <td>399</td>\n",
       "    </tr>\n",
       "    <tr>\n",
       "      <th>2</th>\n",
       "      <td>Company</td>\n",
       "      <td>Henkel AG &amp; Company KGaA operates worldwide w...</td>\n",
       "      <td>226</td>\n",
       "    </tr>\n",
       "    <tr>\n",
       "      <th>3</th>\n",
       "      <td>Company</td>\n",
       "      <td>The GOAT Store (Games Of All Type Store) LLC ...</td>\n",
       "      <td>220</td>\n",
       "    </tr>\n",
       "    <tr>\n",
       "      <th>4</th>\n",
       "      <td>Company</td>\n",
       "      <td>RagWing Aircraft Designs (also called the Rag...</td>\n",
       "      <td>180</td>\n",
       "    </tr>\n",
       "  </tbody>\n",
       "</table>\n",
       "</div>"
      ],
      "text/plain": [
       "    Labels                                            Content  Length\n",
       "0  Company   TY KU /taɪkuː/ is an American alcoholic bever...     377\n",
       "1  Company   OddLot Entertainment founded in 2001 by longt...     399\n",
       "2  Company   Henkel AG & Company KGaA operates worldwide w...     226\n",
       "3  Company   The GOAT Store (Games Of All Type Store) LLC ...     220\n",
       "4  Company   RagWing Aircraft Designs (also called the Rag...     180"
      ]
     },
     "execution_count": 57,
     "metadata": {},
     "output_type": "execute_result"
    }
   ],
   "source": [
    "dbp_ont_test[\"Length\"] = dbp_ont_test[\"Content\"].apply(len)\n",
    "dbp_ont_test.head()"
   ]
  },
  {
   "cell_type": "markdown",
   "metadata": {
    "id": "kGsmPOSp1Zc1"
   },
   "source": [
    "### Data Visualization:"
   ]
  },
  {
   "cell_type": "code",
   "execution_count": 75,
   "metadata": {
    "colab": {
     "base_uri": "https://localhost:8080/",
     "height": 391
    },
    "id": "2QZhwypH0xj5",
    "outputId": "7495067a-7b5d-4128-d4da-ad3b301bf1e9"
   },
   "outputs": [
    {
     "data": {
      "text/plain": [
       "<matplotlib.axes._subplots.AxesSubplot at 0x7f71fc67d5d0>"
      ]
     },
     "execution_count": 75,
     "metadata": {},
     "output_type": "execute_result"
    },
    {
     "data": {
      "image/png": "[encoded data removed]",
      "text/plain": [
       "<Figure size 720x432 with 1 Axes>"
      ]
     },
     "metadata": {
      "needs_background": "light"
     },
     "output_type": "display_data"
    }
   ],
   "source": [
    "plt.figure(figsize=(10,6))\n",
    "dbp_ont_train[\"Length\"].plot.hist(bins=100, grid=True)"
   ]
  },
  {
   "cell_type": "code",
   "execution_count": 79,
   "metadata": {
    "colab": {
     "base_uri": "https://localhost:8080/",
     "height": 391
    },
    "id": "NVPd6E9J2IrP",
    "outputId": "6a309967-6264-4c91-d08f-01e395478540"
   },
   "outputs": [
    {
     "data": {
      "text/plain": [
       "<matplotlib.axes._subplots.AxesSubplot at 0x7f71fb2bd750>"
      ]
     },
     "execution_count": 79,
     "metadata": {},
     "output_type": "execute_result"
    },
    {
     "data": {
      "image/png": "[encoded data removed]",
      "text/plain": [
       "<Figure size 720x432 with 1 Axes>"
      ]
     },
     "metadata": {
      "needs_background": "light"
     },
     "output_type": "display_data"
    }
   ],
   "source": [
    "plt.figure(figsize=(10,6))\n",
    "plt.xlim(0, 1000)\n",
    "dbp_ont_train[\"Length\"].plot.hist(bins=1500, grid=True)"
   ]
  },
  {
   "cell_type": "code",
   "execution_count": 81,
   "metadata": {
    "colab": {
     "base_uri": "https://localhost:8080/",
     "height": 391
    },
    "id": "M7NJ007OCZU1",
    "outputId": "6ef475c6-947d-433a-caf1-d41475c4af1c"
   },
   "outputs": [
    {
     "data": {
      "text/plain": [
       "<matplotlib.axes._subplots.AxesSubplot at 0x7f71f78d3210>"
      ]
     },
     "execution_count": 81,
     "metadata": {},
     "output_type": "execute_result"
    },
    {
     "data": {
      "image/png": "[encoded data removed]",
      "text/plain": [
       "<Figure size 720x432 with 1 Axes>"
      ]
     },
     "metadata": {
      "needs_background": "light"
     },
     "output_type": "display_data"
    }
   ],
   "source": [
    "plt.figure(figsize=(10,6))\n",
    "dbp_ont_test[\"Length\"].plot.hist(bins=100, grid=True)"
   ]
  },
  {
   "cell_type": "code",
   "execution_count": 80,
   "metadata": {
    "colab": {
     "base_uri": "https://localhost:8080/",
     "height": 391
    },
    "id": "9jc0rk7PCBoR",
    "outputId": "eae1df08-1897-457f-b8ef-fb22ae0598e9"
   },
   "outputs": [
    {
     "data": {
      "text/plain": [
       "<matplotlib.axes._subplots.AxesSubplot at 0x7f71f9b7c350>"
      ]
     },
     "execution_count": 80,
     "metadata": {},
     "output_type": "execute_result"
    },
    {
     "data": {
      "image/png": "[encoded data removed]",
      "text/plain": [
       "<Figure size 720x432 with 1 Axes>"
      ]
     },
     "metadata": {
      "needs_background": "light"
     },
     "output_type": "display_data"
    }
   ],
   "source": [
    "plt.figure(figsize=(10,6))\n",
    "plt.xlim(0, 1000)\n",
    "dbp_ont_test[\"Length\"].plot.hist(bins=1500, grid=True)"
   ]
  },
  {
   "cell_type": "code",
   "execution_count": 91,
   "metadata": {
    "colab": {
     "base_uri": "https://localhost:8080/",
     "height": 777
    },
    "id": "4b3d16tRCUCw",
    "outputId": "b42f87bf-9d36-473c-f92a-ff444315f36b"
   },
   "outputs": [
    {
     "data": {
      "text/plain": [
       "array([[<matplotlib.axes._subplots.AxesSubplot object at 0x7f71f0de95d0>,\n",
       "        <matplotlib.axes._subplots.AxesSubplot object at 0x7f71f0d9e550>,\n",
       "        <matplotlib.axes._subplots.AxesSubplot object at 0x7f71f0c71f50>,\n",
       "        <matplotlib.axes._subplots.AxesSubplot object at 0x7f71f0c850d0>],\n",
       "       [<matplotlib.axes._subplots.AxesSubplot object at 0x7f71f0c18650>,\n",
       "        <matplotlib.axes._subplots.AxesSubplot object at 0x7f71f0c31bd0>,\n",
       "        <matplotlib.axes._subplots.AxesSubplot object at 0x7f71f0bf2190>,\n",
       "        <matplotlib.axes._subplots.AxesSubplot object at 0x7f71f0ba8710>],\n",
       "       [<matplotlib.axes._subplots.AxesSubplot object at 0x7f71f0bb2b50>,\n",
       "        <matplotlib.axes._subplots.AxesSubplot object at 0x7f71f0b74210>,\n",
       "        <matplotlib.axes._subplots.AxesSubplot object at 0x7f71f0ad57d0>,\n",
       "        <matplotlib.axes._subplots.AxesSubplot object at 0x7f71f0a8cd50>],\n",
       "       [<matplotlib.axes._subplots.AxesSubplot object at 0x7f71f0a4d310>,\n",
       "        <matplotlib.axes._subplots.AxesSubplot object at 0x7f71f0a82890>,\n",
       "        <matplotlib.axes._subplots.AxesSubplot object at 0x7f71f0a38e10>,\n",
       "        <matplotlib.axes._subplots.AxesSubplot object at 0x7f71f09fb3d0>]],\n",
       "      dtype=object)"
      ]
     },
     "execution_count": 91,
     "metadata": {},
     "output_type": "execute_result"
    },
    {
     "data": {
      "image/png": "[encoded data removed]",
      "text/plain": [
       "<Figure size 1584x792 with 16 Axes>"
      ]
     },
     "metadata": {
      "needs_background": "light"
     },
     "output_type": "display_data"
    }
   ],
   "source": [
    "dbp_ont_train.hist(column=\"Length\", by=\"Labels\", figsize=(22,11), grid=True, bins=50)"
   ]
  },
  {
   "cell_type": "code",
   "execution_count": 92,
   "metadata": {
    "colab": {
     "base_uri": "https://localhost:8080/",
     "height": 779
    },
    "id": "KNWFBoQADNyy",
    "outputId": "36b9a165-14b3-4355-be82-4e49d25ed8ec"
   },
   "outputs": [
    {
     "data": {
      "text/plain": [
       "array([[<matplotlib.axes._subplots.AxesSubplot object at 0x7f71f16b7890>,\n",
       "        <matplotlib.axes._subplots.AxesSubplot object at 0x7f71f04d5f10>,\n",
       "        <matplotlib.axes._subplots.AxesSubplot object at 0x7f71eff00fd0>,\n",
       "        <matplotlib.axes._subplots.AxesSubplot object at 0x7f71efe995d0>],\n",
       "       [<matplotlib.axes._subplots.AxesSubplot object at 0x7f71efeacb50>,\n",
       "        <matplotlib.axes._subplots.AxesSubplot object at 0x7f71efe4e110>,\n",
       "        <matplotlib.axes._subplots.AxesSubplot object at 0x7f71f223f1d0>,\n",
       "        <matplotlib.axes._subplots.AxesSubplot object at 0x7f71f70370d0>],\n",
       "       [<matplotlib.axes._subplots.AxesSubplot object at 0x7f71f1b3cc50>,\n",
       "        <matplotlib.axes._subplots.AxesSubplot object at 0x7f71f1ac5fd0>,\n",
       "        <matplotlib.axes._subplots.AxesSubplot object at 0x7f71f07baf90>,\n",
       "        <matplotlib.axes._subplots.AxesSubplot object at 0x7f71efd71bd0>],\n",
       "       [<matplotlib.axes._subplots.AxesSubplot object at 0x7f71efd30290>,\n",
       "        <matplotlib.axes._subplots.AxesSubplot object at 0x7f71efce1910>,\n",
       "        <matplotlib.axes._subplots.AxesSubplot object at 0x7f71efc93f90>,\n",
       "        <matplotlib.axes._subplots.AxesSubplot object at 0x7f71efc51650>]],\n",
       "      dtype=object)"
      ]
     },
     "execution_count": 92,
     "metadata": {},
     "output_type": "execute_result"
    },
    {
     "data": {
      "image/png": "[encoded data removed]",
      "text/plain": [
       "<Figure size 1584x792 with 16 Axes>"
      ]
     },
     "metadata": {
      "needs_background": "light"
     },
     "output_type": "display_data"
    }
   ],
   "source": [
    "dbp_ont_test.hist(column=\"Length\", by=\"Labels\", figsize=(22,11), grid=True, bins=50)"
   ]
  },
  {
   "cell_type": "code",
   "execution_count": null,
   "metadata": {
    "id": "1-1taPxiG_9V"
   },
   "outputs": [],
   "source": []
  }
 ],
 "metadata": {
  "accelerator": "GPU",
  "colab": {
   "collapsed_sections": [],
   "machine_shape": "hm",
   "name": "Dbpedia-Ontology-Dataset-Visualization.ipynb",
   "provenance": []
  },
  "kernelspec": {
   "display_name": "Python 3",
   "language": "python",
   "name": "python3"
  },
  "language_info": {
   "codemirror_mode": {
    "name": "ipython",
    "version": 3
   },
   "file_extension": ".py",
   "mimetype": "text/x-python",
   "name": "python",
   "nbconvert_exporter": "python",
   "pygments_lexer": "ipython3",
   "version": "3.9.5"
  }
 },
 "nbformat": 4,
 "nbformat_minor": 1
}
