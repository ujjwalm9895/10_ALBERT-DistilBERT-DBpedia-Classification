{
 "cells": [
  {
   "cell_type": "markdown",
   "metadata": {
    "id": "tuSB8GI4f1yV"
   },
   "source": [
    "### Check Hardware & RAM availability:\n",
    "Commands to check for available GPU and RAM allocation on runtime"
   ]
  },
  {
   "cell_type": "code",
   "execution_count": 1,
   "metadata": {
    "colab": {
     "base_uri": "https://localhost:8080/"
    },
    "id": "MCNtSz-_dMdd",
    "outputId": "43027c65-36f7-474e-9f0f-0676fe7db32c"
   },
   "outputs": [
    {
     "name": "stdout",
     "output_type": "stream",
     "text": [
      "Sun Oct 24 12:56:24 2021       \n",
      "+-----------------------------------------------------------------------------+\n",
      "| NVIDIA-SMI 470.74       Driver Version: 460.32.03    CUDA Version: 11.2     |\n",
      "|-------------------------------+----------------------+----------------------+\n",
      "| GPU  Name        Persistence-M| Bus-Id        Disp.A | Volatile Uncorr. ECC |\n",
      "| Fan  Temp  Perf  Pwr:Usage/Cap|         Memory-Usage | GPU-Util  Compute M. |\n",
      "|                               |                      |               MIG M. |\n",
      "|===============================+======================+======================|\n",
      "|   0  Tesla P100-PCIE...  Off  | 00000000:00:04.0 Off |                    0 |\n",
      "| N/A   48C    P0    30W / 250W |      0MiB / 16280MiB |      0%      Default |\n",
      "|                               |                      |                  N/A |\n",
      "+-------------------------------+----------------------+----------------------+\n",
      "                                                                               \n",
      "+-----------------------------------------------------------------------------+\n",
      "| Processes:                                                                  |\n",
      "|  GPU   GI   CI        PID   Type   Process name                  GPU Memory |\n",
      "|        ID   ID                                                   Usage      |\n",
      "|=============================================================================|\n",
      "|  No running processes found                                                 |\n",
      "+-----------------------------------------------------------------------------+\n"
     ]
    }
   ],
   "source": [
    "gpu_info = !nvidia-smi\n",
    "gpu_info = '\\n'.join(gpu_info)\n",
    "if gpu_info.find('failed') >= 0:\n",
    "  print('Select the Runtime > \"Change runtime type\" menu to enable a GPU accelerator, ')\n",
    "  print('and then re-execute this cell.')\n",
    "else:\n",
    "  print(gpu_info)"
   ]
  },
  {
   "cell_type": "markdown",
   "metadata": {
    "id": "OSDGOMougsiC"
   },
   "source": [
    "### References:\n",
    "* https://huggingface.co/\n",
    "* https://arxiv.org/abs/1910.01108"
   ]
  },
  {
   "cell_type": "markdown",
   "metadata": {
    "id": "fuQ3zna5g1qp"
   },
   "source": [
    "### Install Required Libraries for Transformer Models:\n",
    "* Transformer package from Hugging Face Library(transformers) contains Pre-Trained Language models.\n",
    "* K-train as a high level abstraction package to simplify our modelling and predictions."
   ]
  },
  {
   "cell_type": "code",
   "execution_count": 2,
   "metadata": {
    "colab": {
     "base_uri": "https://localhost:8080/"
    },
    "id": "HmXijCL9f8d6",
    "outputId": "87bf39a1-093b-402b-d992-02c0fae08b06"
   },
   "outputs": [
    {
     "name": "stdout",
     "output_type": "stream",
     "text": [
      "Requirement already satisfied: ktrain in /usr/local/lib/python3.7/dist-packages (0.28.2)\n",
      "Requirement already satisfied: scikit-learn==0.23.2 in /usr/local/lib/python3.7/dist-packages (from ktrain) (0.23.2)\n",
      "Requirement already satisfied: cchardet in /usr/local/lib/python3.7/dist-packages (from ktrain) (2.1.7)\n",
      "Requirement already satisfied: chardet in /usr/local/lib/python3.7/dist-packages (from ktrain) (3.0.4)\n",
      "Requirement already satisfied: joblib in /usr/local/lib/python3.7/dist-packages (from ktrain) (1.0.1)\n",
      "Requirement already satisfied: fastprogress>=0.1.21 in /usr/local/lib/python3.7/dist-packages (from ktrain) (1.0.0)\n",
      "Requirement already satisfied: pandas>=1.0.1 in /usr/local/lib/python3.7/dist-packages (from ktrain) (1.1.5)\n",
      "Requirement already satisfied: sentencepiece in /usr/local/lib/python3.7/dist-packages (from ktrain) (0.1.96)\n",
      "Requirement already satisfied: keras-bert>=0.86.0 in /usr/local/lib/python3.7/dist-packages (from ktrain) (0.88.0)\n",
      "Requirement already satisfied: syntok in /usr/local/lib/python3.7/dist-packages (from ktrain) (1.3.1)\n",
      "Requirement already satisfied: matplotlib>=3.0.0 in /usr/local/lib/python3.7/dist-packages (from ktrain) (3.2.2)\n",
      "Requirement already satisfied: jieba in /usr/local/lib/python3.7/dist-packages (from ktrain) (0.42.1)\n",
      "Requirement already satisfied: seqeval==0.0.19 in /usr/local/lib/python3.7/dist-packages (from ktrain) (0.0.19)\n",
      "Requirement already satisfied: packaging in /usr/local/lib/python3.7/dist-packages (from ktrain) (21.0)\n",
      "Requirement already satisfied: whoosh in /usr/local/lib/python3.7/dist-packages (from ktrain) (2.7.4)\n",
      "Requirement already satisfied: transformers<=4.10.3,>=4.0.0 in /usr/local/lib/python3.7/dist-packages (from ktrain) (4.10.3)\n",
      "Requirement already satisfied: langdetect in /usr/local/lib/python3.7/dist-packages (from ktrain) (1.0.9)\n",
      "Requirement already satisfied: requests in /usr/local/lib/python3.7/dist-packages (from ktrain) (2.23.0)\n",
      "Requirement already satisfied: threadpoolctl>=2.0.0 in /usr/local/lib/python3.7/dist-packages (from scikit-learn==0.23.2->ktrain) (3.0.0)\n",
      "Requirement already satisfied: numpy>=1.13.3 in /usr/local/lib/python3.7/dist-packages (from scikit-learn==0.23.2->ktrain) (1.19.5)\n",
      "Requirement already satisfied: scipy>=0.19.1 in /usr/local/lib/python3.7/dist-packages (from scikit-learn==0.23.2->ktrain) (1.4.1)\n",
      "Requirement already satisfied: Keras>=2.2.4 in /usr/local/lib/python3.7/dist-packages (from seqeval==0.0.19->ktrain) (2.6.0)\n",
      "Requirement already satisfied: keras-transformer>=0.39.0 in /usr/local/lib/python3.7/dist-packages (from keras-bert>=0.86.0->ktrain) (0.39.0)\n",
      "Requirement already satisfied: keras-embed-sim>=0.9.0 in /usr/local/lib/python3.7/dist-packages (from keras-transformer>=0.39.0->keras-bert>=0.86.0->ktrain) (0.9.0)\n",
      "Requirement already satisfied: keras-multi-head>=0.28.0 in /usr/local/lib/python3.7/dist-packages (from keras-transformer>=0.39.0->keras-bert>=0.86.0->ktrain) (0.28.0)\n",
      "Requirement already satisfied: keras-position-wise-feed-forward>=0.7.0 in /usr/local/lib/python3.7/dist-packages (from keras-transformer>=0.39.0->keras-bert>=0.86.0->ktrain) (0.7.0)\n",
      "Requirement already satisfied: keras-layer-normalization>=0.15.0 in /usr/local/lib/python3.7/dist-packages (from keras-transformer>=0.39.0->keras-bert>=0.86.0->ktrain) (0.15.0)\n",
      "Requirement already satisfied: keras-pos-embd>=0.12.0 in /usr/local/lib/python3.7/dist-packages (from keras-transformer>=0.39.0->keras-bert>=0.86.0->ktrain) (0.12.0)\n",
      "Requirement already satisfied: keras-self-attention>=0.50.0 in /usr/local/lib/python3.7/dist-packages (from keras-multi-head>=0.28.0->keras-transformer>=0.39.0->keras-bert>=0.86.0->ktrain) (0.50.0)\n",
      "Requirement already satisfied: python-dateutil>=2.1 in /usr/local/lib/python3.7/dist-packages (from matplotlib>=3.0.0->ktrain) (2.8.2)\n",
      "Requirement already satisfied: pyparsing!=2.0.4,!=2.1.2,!=2.1.6,>=2.0.1 in /usr/local/lib/python3.7/dist-packages (from matplotlib>=3.0.0->ktrain) (2.4.7)\n",
      "Requirement already satisfied: cycler>=0.10 in /usr/local/lib/python3.7/dist-packages (from matplotlib>=3.0.0->ktrain) (0.10.0)\n",
      "Requirement already satisfied: kiwisolver>=1.0.1 in /usr/local/lib/python3.7/dist-packages (from matplotlib>=3.0.0->ktrain) (1.3.2)\n",
      "Requirement already satisfied: six in /usr/local/lib/python3.7/dist-packages (from cycler>=0.10->matplotlib>=3.0.0->ktrain) (1.15.0)\n",
      "Requirement already satisfied: pytz>=2017.2 in /usr/local/lib/python3.7/dist-packages (from pandas>=1.0.1->ktrain) (2018.9)\n",
      "Requirement already satisfied: filelock in /usr/local/lib/python3.7/dist-packages (from transformers<=4.10.3,>=4.0.0->ktrain) (3.3.0)\n",
      "Requirement already satisfied: regex!=2019.12.17 in /usr/local/lib/python3.7/dist-packages (from transformers<=4.10.3,>=4.0.0->ktrain) (2019.12.20)\n",
      "Requirement already satisfied: sacremoses in /usr/local/lib/python3.7/dist-packages (from transformers<=4.10.3,>=4.0.0->ktrain) (0.0.46)\n",
      "Requirement already satisfied: tqdm>=4.27 in /usr/local/lib/python3.7/dist-packages (from transformers<=4.10.3,>=4.0.0->ktrain) (4.62.3)\n",
      "Requirement already satisfied: pyyaml>=5.1 in /usr/local/lib/python3.7/dist-packages (from transformers<=4.10.3,>=4.0.0->ktrain) (6.0)\n",
      "Requirement already satisfied: tokenizers<0.11,>=0.10.1 in /usr/local/lib/python3.7/dist-packages (from transformers<=4.10.3,>=4.0.0->ktrain) (0.10.3)\n",
      "Requirement already satisfied: importlib-metadata in /usr/local/lib/python3.7/dist-packages (from transformers<=4.10.3,>=4.0.0->ktrain) (4.8.1)\n",
      "Requirement already satisfied: huggingface-hub>=0.0.12 in /usr/local/lib/python3.7/dist-packages (from transformers<=4.10.3,>=4.0.0->ktrain) (0.0.19)\n",
      "Requirement already satisfied: typing-extensions in /usr/local/lib/python3.7/dist-packages (from huggingface-hub>=0.0.12->transformers<=4.10.3,>=4.0.0->ktrain) (3.7.4.3)\n",
      "Requirement already satisfied: zipp>=0.5 in /usr/local/lib/python3.7/dist-packages (from importlib-metadata->transformers<=4.10.3,>=4.0.0->ktrain) (3.6.0)\n",
      "Requirement already satisfied: certifi>=2017.4.17 in /usr/local/lib/python3.7/dist-packages (from requests->ktrain) (2021.5.30)\n",
      "Requirement already satisfied: idna<3,>=2.5 in /usr/local/lib/python3.7/dist-packages (from requests->ktrain) (2.10)\n",
      "Requirement already satisfied: urllib3!=1.25.0,!=1.25.1,<1.26,>=1.21.1 in /usr/local/lib/python3.7/dist-packages (from requests->ktrain) (1.24.3)\n",
      "Requirement already satisfied: click in /usr/local/lib/python3.7/dist-packages (from sacremoses->transformers<=4.10.3,>=4.0.0->ktrain) (7.1.2)\n",
      "Requirement already satisfied: transformers in /usr/local/lib/python3.7/dist-packages (4.10.3)\n",
      "Requirement already satisfied: sacremoses in /usr/local/lib/python3.7/dist-packages (from transformers) (0.0.46)\n",
      "Requirement already satisfied: numpy>=1.17 in /usr/local/lib/python3.7/dist-packages (from transformers) (1.19.5)\n",
      "Requirement already satisfied: tokenizers<0.11,>=0.10.1 in /usr/local/lib/python3.7/dist-packages (from transformers) (0.10.3)\n",
      "Requirement already satisfied: huggingface-hub>=0.0.12 in /usr/local/lib/python3.7/dist-packages (from transformers) (0.0.19)\n",
      "Requirement already satisfied: packaging in /usr/local/lib/python3.7/dist-packages (from transformers) (21.0)\n",
      "Requirement already satisfied: pyyaml>=5.1 in /usr/local/lib/python3.7/dist-packages (from transformers) (6.0)\n",
      "Requirement already satisfied: regex!=2019.12.17 in /usr/local/lib/python3.7/dist-packages (from transformers) (2019.12.20)\n",
      "Requirement already satisfied: tqdm>=4.27 in /usr/local/lib/python3.7/dist-packages (from transformers) (4.62.3)\n",
      "Requirement already satisfied: filelock in /usr/local/lib/python3.7/dist-packages (from transformers) (3.3.0)\n",
      "Requirement already satisfied: importlib-metadata in /usr/local/lib/python3.7/dist-packages (from transformers) (4.8.1)\n",
      "Requirement already satisfied: requests in /usr/local/lib/python3.7/dist-packages (from transformers) (2.23.0)\n",
      "Requirement already satisfied: typing-extensions in /usr/local/lib/python3.7/dist-packages (from huggingface-hub>=0.0.12->transformers) (3.7.4.3)\n",
      "Requirement already satisfied: pyparsing>=2.0.2 in /usr/local/lib/python3.7/dist-packages (from packaging->transformers) (2.4.7)\n",
      "Requirement already satisfied: zipp>=0.5 in /usr/local/lib/python3.7/dist-packages (from importlib-metadata->transformers) (3.6.0)\n",
      "Requirement already satisfied: urllib3!=1.25.0,!=1.25.1,<1.26,>=1.21.1 in /usr/local/lib/python3.7/dist-packages (from requests->transformers) (1.24.3)\n",
      "Requirement already satisfied: idna<3,>=2.5 in /usr/local/lib/python3.7/dist-packages (from requests->transformers) (2.10)\n",
      "Requirement already satisfied: chardet<4,>=3.0.2 in /usr/local/lib/python3.7/dist-packages (from requests->transformers) (3.0.4)\n",
      "Requirement already satisfied: certifi>=2017.4.17 in /usr/local/lib/python3.7/dist-packages (from requests->transformers) (2021.5.30)\n",
      "Requirement already satisfied: click in /usr/local/lib/python3.7/dist-packages (from sacremoses->transformers) (7.1.2)\n",
      "Requirement already satisfied: six in /usr/local/lib/python3.7/dist-packages (from sacremoses->transformers) (1.15.0)\n",
      "Requirement already satisfied: joblib in /usr/local/lib/python3.7/dist-packages (from sacremoses->transformers) (1.0.1)\n"
     ]
    }
   ],
   "source": [
    "!pip install ktrain\n",
    "!pip install transformers"
   ]
  },
  {
   "cell_type": "markdown",
   "metadata": {
    "id": "YvfY38HWjVLo"
   },
   "source": [
    "### Import Libraries:"
   ]
  },
  {
   "cell_type": "code",
   "execution_count": 3,
   "metadata": {
    "id": "57Q368qRhFA_"
   },
   "outputs": [],
   "source": [
    "import numpy as np\n",
    "import pandas as pd\n",
    "import matplotlib.pyplot as plt\n",
    "import ktrain\n",
    "from ktrain import text\n",
    "import tensorflow as tf\n",
    "from sklearn.model_selection import train_test_split\n",
    "from sklearn.metrics import classification_report, confusion_matrix\n",
    "import timeit\n",
    "import warnings\n",
    "\n",
    "pd.set_option('display.max_columns', None)\n",
    "warnings.simplefilter(action=\"ignore\")"
   ]
  },
  {
   "cell_type": "code",
   "execution_count": 4,
   "metadata": {
    "colab": {
     "base_uri": "https://localhost:8080/",
     "height": 35
    },
    "id": "vB4PC6L9je6n",
    "outputId": "9c567dba-9fed-4a07-bd63-0b785bf971de"
   },
   "outputs": [
    {
     "data": {
      "application/vnd.google.colaboratory.intrinsic+json": {
       "type": "string"
      },
      "text/plain": [
       "'2.6.0'"
      ]
     },
     "execution_count": 4,
     "metadata": {},
     "output_type": "execute_result"
    }
   ],
   "source": [
    "tf.__version__"
   ]
  },
  {
   "cell_type": "markdown",
   "metadata": {
    "id": "Zzrjvon-joVB"
   },
   "source": [
    "### Load Dataset:"
   ]
  },
  {
   "cell_type": "code",
   "execution_count": 5,
   "metadata": {
    "id": "Ra8akVfCjlZN"
   },
   "outputs": [],
   "source": [
    "dbpedia_14_train = pd.read_csv(\"/content/dbpedia_14_train.csv\")\n",
    "dbpedia_14_test = pd.read_csv(\"/content/dbpedia_14_test.csv\")"
   ]
  },
  {
   "cell_type": "markdown",
   "metadata": {
    "id": "gnOF_ymtlj-g"
   },
   "source": [
    "### Dataset Information:"
   ]
  },
  {
   "cell_type": "code",
   "execution_count": 6,
   "metadata": {
    "colab": {
     "base_uri": "https://localhost:8080/"
    },
    "id": "rVlPQ-9KqXEH",
    "outputId": "71c15f19-366c-4432-8cb7-f7b8456dfbf2"
   },
   "outputs": [
    {
     "name": "stdout",
     "output_type": "stream",
     "text": [
      "<class 'pandas.core.frame.DataFrame'>\n",
      "RangeIndex: 560000 entries, 0 to 559999\n",
      "Data columns (total 2 columns):\n",
      " #   Column   Non-Null Count   Dtype \n",
      "---  ------   --------------   ----- \n",
      " 0   Labels   560000 non-null  object\n",
      " 1   Content  560000 non-null  object\n",
      "dtypes: object(2)\n",
      "memory usage: 8.5+ MB\n"
     ]
    }
   ],
   "source": [
    "dbpedia_14_train.info()"
   ]
  },
  {
   "cell_type": "code",
   "execution_count": 7,
   "metadata": {
    "colab": {
     "base_uri": "https://localhost:8080/"
    },
    "id": "HQTkX8qVqbUw",
    "outputId": "43003eec-1e92-486c-a7a6-1525fa976ef7"
   },
   "outputs": [
    {
     "name": "stdout",
     "output_type": "stream",
     "text": [
      "<class 'pandas.core.frame.DataFrame'>\n",
      "RangeIndex: 70000 entries, 0 to 69999\n",
      "Data columns (total 2 columns):\n",
      " #   Column   Non-Null Count  Dtype \n",
      "---  ------   --------------  ----- \n",
      " 0   Labels   70000 non-null  object\n",
      " 1   Content  70000 non-null  object\n",
      "dtypes: object(2)\n",
      "memory usage: 1.1+ MB\n"
     ]
    }
   ],
   "source": [
    "dbpedia_14_test.info()"
   ]
  },
  {
   "cell_type": "code",
   "execution_count": 8,
   "metadata": {
    "colab": {
     "base_uri": "https://localhost:8080/",
     "height": 204
    },
    "id": "QKU8VY9akFEx",
    "outputId": "49bf38aa-19bb-4cd0-ab16-194573c0efcb"
   },
   "outputs": [
    {
     "data": {
      "text/html": [
       "<div>\n",
       "<style scoped>\n",
       "    .dataframe tbody tr th:only-of-type {\n",
       "        vertical-align: middle;\n",
       "    }\n",
       "\n",
       "    .dataframe tbody tr th {\n",
       "        vertical-align: top;\n",
       "    }\n",
       "\n",
       "    .dataframe thead th {\n",
       "        text-align: right;\n",
       "    }\n",
       "</style>\n",
       "<table border=\"1\" class=\"dataframe\">\n",
       "  <thead>\n",
       "    <tr style=\"text-align: right;\">\n",
       "      <th></th>\n",
       "      <th>Labels</th>\n",
       "      <th>Content</th>\n",
       "    </tr>\n",
       "  </thead>\n",
       "  <tbody>\n",
       "    <tr>\n",
       "      <th>0</th>\n",
       "      <td>Company</td>\n",
       "      <td>Abbott of Farnham E D Abbott Limited was a Br...</td>\n",
       "    </tr>\n",
       "    <tr>\n",
       "      <th>1</th>\n",
       "      <td>Company</td>\n",
       "      <td>Schwan-STABILO is a German maker of pens for ...</td>\n",
       "    </tr>\n",
       "    <tr>\n",
       "      <th>2</th>\n",
       "      <td>Company</td>\n",
       "      <td>Q-workshop is a Polish company located in Poz...</td>\n",
       "    </tr>\n",
       "    <tr>\n",
       "      <th>3</th>\n",
       "      <td>Company</td>\n",
       "      <td>Marvell Software Solutions Israel known as RA...</td>\n",
       "    </tr>\n",
       "    <tr>\n",
       "      <th>4</th>\n",
       "      <td>Company</td>\n",
       "      <td>Bergan Mercy Medical Center is a hospital loc...</td>\n",
       "    </tr>\n",
       "  </tbody>\n",
       "</table>\n",
       "</div>"
      ],
      "text/plain": [
       "    Labels                                            Content\n",
       "0  Company   Abbott of Farnham E D Abbott Limited was a Br...\n",
       "1  Company   Schwan-STABILO is a German maker of pens for ...\n",
       "2  Company   Q-workshop is a Polish company located in Poz...\n",
       "3  Company   Marvell Software Solutions Israel known as RA...\n",
       "4  Company   Bergan Mercy Medical Center is a hospital loc..."
      ]
     },
     "execution_count": 8,
     "metadata": {},
     "output_type": "execute_result"
    }
   ],
   "source": [
    "dbpedia_14_train.head()"
   ]
  },
  {
   "cell_type": "code",
   "execution_count": 9,
   "metadata": {
    "colab": {
     "base_uri": "https://localhost:8080/",
     "height": 204
    },
    "id": "VPNpalcVq4mu",
    "outputId": "8721f860-2759-44de-b3ac-b47b47ca1d5d"
   },
   "outputs": [
    {
     "data": {
      "text/html": [
       "<div>\n",
       "<style scoped>\n",
       "    .dataframe tbody tr th:only-of-type {\n",
       "        vertical-align: middle;\n",
       "    }\n",
       "\n",
       "    .dataframe tbody tr th {\n",
       "        vertical-align: top;\n",
       "    }\n",
       "\n",
       "    .dataframe thead th {\n",
       "        text-align: right;\n",
       "    }\n",
       "</style>\n",
       "<table border=\"1\" class=\"dataframe\">\n",
       "  <thead>\n",
       "    <tr style=\"text-align: right;\">\n",
       "      <th></th>\n",
       "      <th>Labels</th>\n",
       "      <th>Content</th>\n",
       "    </tr>\n",
       "  </thead>\n",
       "  <tbody>\n",
       "    <tr>\n",
       "      <th>0</th>\n",
       "      <td>Company</td>\n",
       "      <td>TY KU /taɪkuː/ is an American alcoholic bever...</td>\n",
       "    </tr>\n",
       "    <tr>\n",
       "      <th>1</th>\n",
       "      <td>Company</td>\n",
       "      <td>OddLot Entertainment founded in 2001 by longt...</td>\n",
       "    </tr>\n",
       "    <tr>\n",
       "      <th>2</th>\n",
       "      <td>Company</td>\n",
       "      <td>Henkel AG &amp; Company KGaA operates worldwide w...</td>\n",
       "    </tr>\n",
       "    <tr>\n",
       "      <th>3</th>\n",
       "      <td>Company</td>\n",
       "      <td>The GOAT Store (Games Of All Type Store) LLC ...</td>\n",
       "    </tr>\n",
       "    <tr>\n",
       "      <th>4</th>\n",
       "      <td>Company</td>\n",
       "      <td>RagWing Aircraft Designs (also called the Rag...</td>\n",
       "    </tr>\n",
       "  </tbody>\n",
       "</table>\n",
       "</div>"
      ],
      "text/plain": [
       "    Labels                                            Content\n",
       "0  Company   TY KU /taɪkuː/ is an American alcoholic bever...\n",
       "1  Company   OddLot Entertainment founded in 2001 by longt...\n",
       "2  Company   Henkel AG & Company KGaA operates worldwide w...\n",
       "3  Company   The GOAT Store (Games Of All Type Store) LLC ...\n",
       "4  Company   RagWing Aircraft Designs (also called the Rag..."
      ]
     },
     "execution_count": 9,
     "metadata": {},
     "output_type": "execute_result"
    }
   ],
   "source": [
    "dbpedia_14_test.head()"
   ]
  },
  {
   "cell_type": "markdown",
   "metadata": {
    "id": "dG8_kwe_tW0n"
   },
   "source": [
    "### Split Train & Validation data:"
   ]
  },
  {
   "cell_type": "code",
   "execution_count": 10,
   "metadata": {
    "colab": {
     "base_uri": "https://localhost:8080/"
    },
    "id": "p1EiTFEMtZzH",
    "outputId": "207efde1-21f7-4990-bad7-409a2859345e"
   },
   "outputs": [
    {
     "name": "stdout",
     "output_type": "stream",
     "text": [
      "(560000,) (560000,) (70000,) (70000,)\n"
     ]
    }
   ],
   "source": [
    "X_train = dbpedia_14_train[:][\"Content\"]\n",
    "y_train = dbpedia_14_train[:][\"Labels\"]\n",
    "X_test = dbpedia_14_test[:][\"Content\"]\n",
    "y_test = dbpedia_14_test[:][\"Labels\"]\n",
    "\n",
    "print(X_train.shape, y_train.shape, X_test.shape, y_test.shape)"
   ]
  },
  {
   "cell_type": "markdown",
   "metadata": {
    "id": "XQow2C4bmsWm"
   },
   "source": [
    "### Instantiating a DistilBERT Instance:\n",
    "Create a DistilBERT instance with the model name, max token length, the labels to be used for each category and the batch size."
   ]
  },
  {
   "cell_type": "code",
   "execution_count": 11,
   "metadata": {
    "id": "E3axCfMToEWa"
   },
   "outputs": [],
   "source": [
    "class_names_list = ['Company',\n",
    " 'EducationalInstitution',\n",
    " 'Artist',\n",
    " 'Athlete',\n",
    " 'OfficeHolder',\n",
    " 'MeanOfTransportation',\n",
    " 'Building',\n",
    " 'NaturalPlace',\n",
    " 'Village',\n",
    " 'Animal',\n",
    " 'Plant',\n",
    " 'Album',\n",
    " 'Film',\n",
    " 'WrittenWork']"
   ]
  },
  {
   "cell_type": "code",
   "execution_count": 12,
   "metadata": {
    "id": "ZazMXpTTmw04"
   },
   "outputs": [],
   "source": [
    "distilbert_transformer = text.Transformer('distilbert-base-uncased', maxlen=512, classes=class_names_list, batch_size=16)"
   ]
  },
  {
   "cell_type": "markdown",
   "metadata": {
    "id": "Xdzw2dgMttIR"
   },
   "source": [
    "### Perform Data Preprocessing:"
   ]
  },
  {
   "cell_type": "code",
   "execution_count": 13,
   "metadata": {
    "colab": {
     "base_uri": "https://localhost:8080/",
     "height": 238
    },
    "id": "rFtQC6z8nv6n",
    "outputId": "68dd42f9-c95e-4612-f932-0639545c1e28"
   },
   "outputs": [
    {
     "name": "stdout",
     "output_type": "stream",
     "text": [
      "preprocessing train...\n",
      "language: en\n",
      "train sequence lengths:\n",
      "\tmean : 46\n",
      "\t95percentile : 80\n",
      "\t99percentile : 86\n"
     ]
    },
    {
     "data": {
      "text/html": [],
      "text/plain": [
       "<IPython.core.display.HTML object>"
      ]
     },
     "metadata": {},
     "output_type": "display_data"
    },
    {
     "name": "stdout",
     "output_type": "stream",
     "text": [
      "Is Multi-Label? False\n",
      "preprocessing test...\n",
      "language: en\n",
      "test sequence lengths:\n",
      "\tmean : 46\n",
      "\t95percentile : 80\n",
      "\t99percentile : 86\n"
     ]
    },
    {
     "data": {
      "text/html": [],
      "text/plain": [
       "<IPython.core.display.HTML object>"
      ]
     },
     "metadata": {},
     "output_type": "display_data"
    }
   ],
   "source": [
    "dbpedia_ont_train = distilbert_transformer.preprocess_train(X_train.to_list(), y_train.to_list())\n",
    "dbpedia_ont_val = distilbert_transformer.preprocess_test(X_test.to_list(), y_test.to_list())"
   ]
  },
  {
   "cell_type": "markdown",
   "metadata": {
    "id": "JMfHuzuivjFx"
   },
   "source": [
    "### Compile DistilBERT in a K-Train Learner Object:\n",
    "Since we are using k-train as a high level abstration package, we need to wrap our model in a k-train Learner Object for further compuation"
   ]
  },
  {
   "cell_type": "code",
   "execution_count": 14,
   "metadata": {
    "colab": {
     "base_uri": "https://localhost:8080/",
     "height": 49,
     "referenced_widgets": [
      "f4a7fbcd389c4916a531f45dd5bb8746",
      "91dfe162f8e04f6e91f3284902496fbb",
      "2c4b895d957546d593b2d4082d874a62",
      "ba1e599805aa4cfdb7ce1c4a0bf1d9ab",
      "d029492792e64e7fb624ca53b5eebb4c",
      "837002d7bb14427cbbf596749ba8e024",
      "81a22efae6c2409b993761a9564f4f59",
      "aa31529580844aa5b7b237eeb041cdfa",
      "22047341ff9c4da7a067a4962bf1d4fa",
      "73efe8a77a464435b2cb01178eb9aeab",
      "550053d682504a1ba80ab0e753db1b70"
     ]
    },
    "id": "2-bVShPOvgZf",
    "outputId": "8a77dd9a-0cb7-42f4-b089-8bbeb4c959a6"
   },
   "outputs": [
    {
     "data": {
      "application/vnd.jupyter.widget-view+json": {
       "model_id": "f4a7fbcd389c4916a531f45dd5bb8746",
       "version_major": 2,
       "version_minor": 0
      },
      "text/plain": [
       "Downloading:   0%|          | 0.00/363M [00:00<?, ?B/s]"
      ]
     },
     "metadata": {},
     "output_type": "display_data"
    }
   ],
   "source": [
    "distilbert_model = distilbert_transformer.get_classifier()"
   ]
  },
  {
   "cell_type": "code",
   "execution_count": 15,
   "metadata": {
    "id": "bSThAE9Jv8vw"
   },
   "outputs": [],
   "source": [
    "distilbert_learner_ins = ktrain.get_learner(model=distilbert_model,\n",
    "                            train_data=dbpedia_ont_train,\n",
    "                            val_data=dbpedia_ont_val,\n",
    "                            batch_size=16)"
   ]
  },
  {
   "cell_type": "markdown",
   "metadata": {
    "id": "ZVKI7YLVwIah"
   },
   "source": [
    "### DistilBERT Model Summary:"
   ]
  },
  {
   "cell_type": "code",
   "execution_count": 16,
   "metadata": {
    "colab": {
     "base_uri": "https://localhost:8080/"
    },
    "id": "G5fDeEf3wOHK",
    "outputId": "229634e9-2d2b-46c6-ebf0-bb1349580da7"
   },
   "outputs": [
    {
     "name": "stdout",
     "output_type": "stream",
     "text": [
      "Model: \"tf_distil_bert_for_sequence_classification\"\n",
      "_________________________________________________________________\n",
      "Layer (type)                 Output Shape              Param #   \n",
      "=================================================================\n",
      "distilbert (TFDistilBertMain multiple                  66362880  \n",
      "_________________________________________________________________\n",
      "pre_classifier (Dense)       multiple                  590592    \n",
      "_________________________________________________________________\n",
      "classifier (Dense)           multiple                  10766     \n",
      "_________________________________________________________________\n",
      "dropout_19 (Dropout)         multiple                  0         \n",
      "=================================================================\n",
      "Total params: 66,964,238\n",
      "Trainable params: 66,964,238\n",
      "Non-trainable params: 0\n",
      "_________________________________________________________________\n"
     ]
    }
   ],
   "source": [
    "distilbert_learner_ins.model.summary()"
   ]
  },
  {
   "cell_type": "markdown",
   "metadata": {
    "id": "2Sy2o4_mwVoO"
   },
   "source": [
    "### DistilBERT Optimal Learning Rates:¶\n",
    "DistilBERT follows Knowledge Distillation on BERT, hence we can use the established batch sizes and learning rates as used in BERT:\n",
    "\n",
    "* Batch Sizes => {16, 32}\n",
    "* Learning Rates => {1e−5, 2e−5, 3e−5}\n",
    "\n",
    "We will choose the mean among these for our fine-tuning and evaluation purposes."
   ]
  },
  {
   "cell_type": "markdown",
   "metadata": {
    "id": "CuvtdVy2wqkw"
   },
   "source": [
    "### Fine Tuning DistilBERT on Dbpedia Ontology Dataset:\n",
    "We take our Dbpedia dataset along with the DistilBERT model we created, define the learning-rate & epochs to be used and start fine-tuning."
   ]
  },
  {
   "cell_type": "code",
   "execution_count": 17,
   "metadata": {
    "colab": {
     "base_uri": "https://localhost:8080/"
    },
    "id": "Q2l3ypZSwnXJ",
    "outputId": "2f353e12-f30e-4b0d-ffb7-0da36d8c9be2"
   },
   "outputs": [
    {
     "name": "stdout",
     "output_type": "stream",
     "text": [
      "\n",
      "\n",
      "begin training using onecycle policy with max lr of 2e-05...\n",
      "35000/35000 [==============================] - 19701s 559ms/step - loss: 0.0857 - accuracy: 0.9865 - val_loss: 0.0267 - val_accuracy: 0.9927\n"
     ]
    }
   ],
   "source": [
    "distilbert_fine_tuning_start= timeit.default_timer()\n",
    "distilbert_learner_ins.fit_onecycle(lr=2e-5, epochs=1)\n",
    "distilbert_fine_tuning_stop = timeit.default_timer()"
   ]
  },
  {
   "cell_type": "code",
   "execution_count": 18,
   "metadata": {
    "colab": {
     "base_uri": "https://localhost:8080/"
    },
    "id": "mESUzpssy0_X",
    "outputId": "f3b55768-a6ce-46c8-bdfc-b63c95140da1"
   },
   "outputs": [
    {
     "name": "stdout",
     "output_type": "stream",
     "text": [
      "\n",
      "Fine-Tuning time for DistilBERT on Dbpedia Ontology dataset: \n",
      " 328.34684509633337  min\n"
     ]
    }
   ],
   "source": [
    "print(\"\\nFine-Tuning time for DistilBERT on Dbpedia Ontology dataset: \\n\", (distilbert_fine_tuning_stop - distilbert_fine_tuning_start)/60, \" min\")"
   ]
  },
  {
   "cell_type": "markdown",
   "metadata": {
    "id": "J3bZPGuoTJSH"
   },
   "source": [
    "### Checking DistilBERT performance metrics:"
   ]
  },
  {
   "cell_type": "code",
   "execution_count": 19,
   "metadata": {
    "colab": {
     "base_uri": "https://localhost:8080/"
    },
    "id": "m4mE6YeATIfo",
    "outputId": "d7b86ea8-48ed-43cd-c8a2-90f0e5dacf22"
   },
   "outputs": [
    {
     "name": "stdout",
     "output_type": "stream",
     "text": [
      "              precision    recall  f1-score   support\n",
      "\n",
      "           0       1.00      1.00      1.00      5000\n",
      "           1       1.00      1.00      1.00      5000\n",
      "           2       0.99      0.99      0.99      5000\n",
      "           3       1.00      1.00      1.00      5000\n",
      "           4       0.99      0.98      0.98      5000\n",
      "           5       0.97      0.98      0.98      5000\n",
      "           6       0.99      0.99      0.99      5000\n",
      "           7       1.00      0.99      1.00      5000\n",
      "           8       1.00      1.00      1.00      5000\n",
      "           9       1.00      1.00      1.00      5000\n",
      "          10       0.99      0.99      0.99      5000\n",
      "          11       1.00      1.00      1.00      5000\n",
      "          12       1.00      1.00      1.00      5000\n",
      "          13       0.99      0.99      0.99      5000\n",
      "\n",
      "    accuracy                           0.99     70000\n",
      "   macro avg       0.99      0.99      0.99     70000\n",
      "weighted avg       0.99      0.99      0.99     70000\n",
      "\n"
     ]
    }
   ],
   "source": [
    "distilbert_validation_start= timeit.default_timer()\n",
    "distilbert_learner_ins.validate()\n",
    "distilbert_validation_stop= timeit.default_timer()"
   ]
  },
  {
   "cell_type": "code",
   "execution_count": 20,
   "metadata": {
    "colab": {
     "base_uri": "https://localhost:8080/"
    },
    "id": "p8GI3Z08XlLK",
    "outputId": "4a4f613a-1560-436b-8add-0016d50c9326"
   },
   "outputs": [
    {
     "name": "stdout",
     "output_type": "stream",
     "text": [
      "\n",
      "Inference time for DistilBERT on Dbpedia Ontology dataset: \n",
      " 712.3952941440002  sec\n"
     ]
    }
   ],
   "source": [
    "print(\"\\nInference time for DistilBERT on Dbpedia Ontology dataset: \\n\", (distilbert_validation_stop - distilbert_validation_start), \" sec\")"
   ]
  },
  {
   "cell_type": "code",
   "execution_count": 21,
   "metadata": {
    "colab": {
     "base_uri": "https://localhost:8080/"
    },
    "id": "dswb0lRHTTUH",
    "outputId": "ffba8b5e-bc3a-4a4e-d51b-e0ec15278511"
   },
   "outputs": [
    {
     "name": "stdout",
     "output_type": "stream",
     "text": [
      "                        precision    recall  f1-score   support\n",
      "\n",
      "               Company       1.00      1.00      1.00      5000\n",
      "EducationalInstitution       1.00      1.00      1.00      5000\n",
      "                Artist       0.99      0.99      0.99      5000\n",
      "               Athlete       1.00      1.00      1.00      5000\n",
      "          OfficeHolder       0.99      0.98      0.98      5000\n",
      "  MeanOfTransportation       0.97      0.98      0.98      5000\n",
      "              Building       0.99      0.99      0.99      5000\n",
      "          NaturalPlace       1.00      0.99      1.00      5000\n",
      "               Village       1.00      1.00      1.00      5000\n",
      "                Animal       1.00      1.00      1.00      5000\n",
      "                 Plant       0.99      0.99      0.99      5000\n",
      "                 Album       1.00      1.00      1.00      5000\n",
      "                  Film       1.00      1.00      1.00      5000\n",
      "           WrittenWork       0.99      0.99      0.99      5000\n",
      "\n",
      "              accuracy                           0.99     70000\n",
      "             macro avg       0.99      0.99      0.99     70000\n",
      "          weighted avg       0.99      0.99      0.99     70000\n",
      "\n"
     ]
    },
    {
     "data": {
      "text/plain": [
       "array([[4983,    0,    5,    0,    0,    1,    0,    7,    0,    0,    0,\n",
       "           0,    0,    4],\n",
       "       [   0, 4991,    0,    0,    0,    1,    0,    0,    0,    0,    0,\n",
       "           8,    0,    0],\n",
       "       [   3,    0, 4931,    6,    0,    2,    0,    0,    0,    0,   57,\n",
       "           0,    0,    1],\n",
       "       [   1,    0,    3, 4988,    0,    0,    0,    0,    0,    0,    8,\n",
       "           0,    0,    0],\n",
       "       [   0,    1,    1,    0, 4919,   42,   15,    0,    9,    7,    0,\n",
       "           0,    6,    0],\n",
       "       [   3,    1,    8,    2,   39, 4896,   25,    1,   10,    0,    1,\n",
       "           0,    0,   14],\n",
       "       [   0,    0,    0,    0,   15,   38, 4939,    0,    0,    0,    4,\n",
       "           1,    1,    2],\n",
       "       [  10,    0,    1,    0,    0,    3,    0, 4973,    1,    0,    0,\n",
       "           0,    0,   12],\n",
       "       [   0,    0,    0,    0,    3,   15,    0,    0, 4982,    0,    0,\n",
       "           0,    0,    0],\n",
       "       [   0,    0,    1,    0,    8,    2,    0,    0,    0, 4983,    0,\n",
       "           0,    6,    0],\n",
       "       [   0,    0,   34,    7,    1,    3,    0,    0,    1,    0, 4953,\n",
       "           0,    0,    1],\n",
       "       [   0,    1,    0,    0,    0,   11,    0,    0,    1,    0,    0,\n",
       "        4987,    0,    0],\n",
       "       [   0,    0,    0,    0,    1,    0,    0,    0,    0,    1,    0,\n",
       "           0, 4997,    1],\n",
       "       [   3,    0,    2,    0,    2,   21,    0,    7,    0,    0,    0,\n",
       "           0,    0, 4965]])"
      ]
     },
     "execution_count": 21,
     "metadata": {},
     "output_type": "execute_result"
    }
   ],
   "source": [
    "distilbert_learner_ins.validate(class_names=class_names_list)"
   ]
  },
  {
   "cell_type": "code",
   "execution_count": 22,
   "metadata": {
    "colab": {
     "base_uri": "https://localhost:8080/"
    },
    "id": "IlgOVbbYTd2H",
    "outputId": "7c2bd703-41b8-43d4-ae8e-749877e664c1"
   },
   "outputs": [
    {
     "name": "stdout",
     "output_type": "stream",
     "text": [
      "----------\n",
      "id:21130 | loss:11.18 | true:OfficeHolder | pred:Building)\n",
      "\n",
      "----------\n",
      "id:5447 | loss:10.32 | true:EducationalInstitution | pred:Company)\n",
      "\n",
      "----------\n",
      "id:5069 | loss:10.0 | true:EducationalInstitution | pred:Company)\n",
      "\n",
      "----------\n",
      "id:56873 | loss:9.72 | true:Album | pred:Artist)\n",
      "\n"
     ]
    }
   ],
   "source": [
    "distilbert_learner_ins.view_top_losses(preproc=distilbert_transformer)"
   ]
  },
  {
   "cell_type": "markdown",
   "metadata": {
    "id": "6Lvjj9CvTnpY"
   },
   "source": [
    "### Saving DistilBERT Model:"
   ]
  },
  {
   "cell_type": "code",
   "execution_count": 23,
   "metadata": {
    "colab": {
     "base_uri": "https://localhost:8080/"
    },
    "id": "Hk61Rb-BTpBx",
    "outputId": "28cb4955-c49b-4958-e5e2-0f2f0f53517e"
   },
   "outputs": [
    {
     "data": {
      "text/plain": [
       "['Album',\n",
       " 'Animal',\n",
       " 'Artist',\n",
       " 'Athlete',\n",
       " 'Building',\n",
       " 'Company',\n",
       " 'EducationalInstitution',\n",
       " 'Film',\n",
       " 'MeanOfTransportation',\n",
       " 'NaturalPlace',\n",
       " 'OfficeHolder',\n",
       " 'Plant',\n",
       " 'Village',\n",
       " 'WrittenWork']"
      ]
     },
     "execution_count": 23,
     "metadata": {},
     "output_type": "execute_result"
    }
   ],
   "source": [
    "distilbert_predictor = ktrain.get_predictor(distilbert_learner_ins.model, preproc=distilbert_transformer)\n",
    "distilbert_predictor.get_classes()"
   ]
  },
  {
   "cell_type": "code",
   "execution_count": 24,
   "metadata": {
    "id": "P3mPqpW_T7s5"
   },
   "outputs": [],
   "source": [
    "distilbert_predictor.save('/content/distilbert-predictor-on-dbpedia')"
   ]
  },
  {
   "cell_type": "code",
   "execution_count": 25,
   "metadata": {
    "colab": {
     "base_uri": "https://localhost:8080/"
    },
    "id": "BJcr0POzT93P",
    "outputId": "bb66915d-973b-496d-83d0-7675276f527a"
   },
   "outputs": [
    {
     "name": "stdout",
     "output_type": "stream",
     "text": [
      "  adding: content/distilbert-predictor-on-dbpedia/ (stored 0%)\n",
      "  adding: content/distilbert-predictor-on-dbpedia/special_tokens_map.json (deflated 40%)\n",
      "  adding: content/distilbert-predictor-on-dbpedia/vocab.txt (deflated 53%)\n",
      "  adding: content/distilbert-predictor-on-dbpedia/config.json (deflated 58%)\n",
      "  adding: content/distilbert-predictor-on-dbpedia/tokenizer_config.json (deflated 40%)\n",
      "  adding: content/distilbert-predictor-on-dbpedia/tf_model.h5 (deflated 8%)\n",
      "  adding: content/distilbert-predictor-on-dbpedia/tf_model.preproc (deflated 56%)\n",
      "  adding: content/distilbert-predictor-on-dbpedia/tokenizer.json (deflated 59%)\n"
     ]
    }
   ],
   "source": [
    "!zip -r /content/distilbert-predictor-on-dbpedia /content/distilbert-predictor-on-dbpedia"
   ]
  }
 ],
 "metadata": {
  "accelerator": "GPU",
  "colab": {
   "collapsed_sections": [],
   "machine_shape": "hm",
   "name": "DistilBert-on-Dbpedia_14.ipynb",
   "provenance": []
  },
  "kernelspec": {
   "display_name": "Python 3",
   "language": "python",
   "name": "python3"
  },
  "language_info": {
   "codemirror_mode": {
    "name": "ipython",
    "version": 3
   },
   "file_extension": ".py",
   "mimetype": "text/x-python",
   "name": "python",
   "nbconvert_exporter": "python",
   "pygments_lexer": "ipython3",
   "version": "3.9.5"
  },
  "widgets": {
   "application/vnd.jupyter.widget-state+json": {
    "22047341ff9c4da7a067a4962bf1d4fa": {
     "model_module": "@jupyter-widgets/base",
     "model_module_version": "1.2.0",
     "model_name": "LayoutModel",
     "state": {
      "_model_module": "@jupyter-widgets/base",
      "_model_module_version": "1.2.0",
      "_model_name": "LayoutModel",
      "_view_count": null,
      "_view_module": "@jupyter-widgets/base",
      "_view_module_version": "1.2.0",
      "_view_name": "LayoutView",
      "align_content": null,
      "align_items": null,
      "align_self": null,
      "border": null,
      "bottom": null,
      "display": null,
      "flex": null,
      "flex_flow": null,
      "grid_area": null,
      "grid_auto_columns": null,
      "grid_auto_flow": null,
      "grid_auto_rows": null,
      "grid_column": null,
      "grid_gap": null,
      "grid_row": null,
      "grid_template_areas": null,
      "grid_template_columns": null,
      "grid_template_rows": null,
      "height": null,
      "justify_content": null,
      "justify_items": null,
      "left": null,
      "margin": null,
      "max_height": null,
      "max_width": null,
      "min_height": null,
      "min_width": null,
      "object_fit": null,
      "object_position": null,
      "order": null,
      "overflow": null,
      "overflow_x": null,
      "overflow_y": null,
      "padding": null,
      "right": null,
      "top": null,
      "visibility": null,
      "width": null
     }
    },
    "2c4b895d957546d593b2d4082d874a62": {
     "model_module": "@jupyter-widgets/controls",
     "model_module_version": "1.5.0",
     "model_name": "HTMLModel",
     "state": {
      "_dom_classes": [],
      "_model_module": "@jupyter-widgets/controls",
      "_model_module_version": "1.5.0",
      "_model_name": "HTMLModel",
      "_view_count": null,
      "_view_module": "@jupyter-widgets/controls",
      "_view_module_version": "1.5.0",
      "_view_name": "HTMLView",
      "description": "",
      "description_tooltip": null,
      "layout": "IPY_MODEL_81a22efae6c2409b993761a9564f4f59",
      "placeholder": "​",
      "style": "IPY_MODEL_837002d7bb14427cbbf596749ba8e024",
      "value": "Downloading: 100%"
     }
    },
    "550053d682504a1ba80ab0e753db1b70": {
     "model_module": "@jupyter-widgets/base",
     "model_module_version": "1.2.0",
     "model_name": "LayoutModel",
     "state": {
      "_model_module": "@jupyter-widgets/base",
      "_model_module_version": "1.2.0",
      "_model_name": "LayoutModel",
      "_view_count": null,
      "_view_module": "@jupyter-widgets/base",
      "_view_module_version": "1.2.0",
      "_view_name": "LayoutView",
      "align_content": null,
      "align_items": null,
      "align_self": null,
      "border": null,
      "bottom": null,
      "display": null,
      "flex": null,
      "flex_flow": null,
      "grid_area": null,
      "grid_auto_columns": null,
      "grid_auto_flow": null,
      "grid_auto_rows": null,
      "grid_column": null,
      "grid_gap": null,
      "grid_row": null,
      "grid_template_areas": null,
      "grid_template_columns": null,
      "grid_template_rows": null,
      "height": null,
      "justify_content": null,
      "justify_items": null,
      "left": null,
      "margin": null,
      "max_height": null,
      "max_width": null,
      "min_height": null,
      "min_width": null,
      "object_fit": null,
      "object_position": null,
      "order": null,
      "overflow": null,
      "overflow_x": null,
      "overflow_y": null,
      "padding": null,
      "right": null,
      "top": null,
      "visibility": null,
      "width": null
     }
    },
    "73efe8a77a464435b2cb01178eb9aeab": {
     "model_module": "@jupyter-widgets/controls",
     "model_module_version": "1.5.0",
     "model_name": "DescriptionStyleModel",
     "state": {
      "_model_module": "@jupyter-widgets/controls",
      "_model_module_version": "1.5.0",
      "_model_name": "DescriptionStyleModel",
      "_view_count": null,
      "_view_module": "@jupyter-widgets/base",
      "_view_module_version": "1.2.0",
      "_view_name": "StyleView",
      "description_width": ""
     }
    },
    "81a22efae6c2409b993761a9564f4f59": {
     "model_module": "@jupyter-widgets/base",
     "model_module_version": "1.2.0",
     "model_name": "LayoutModel",
     "state": {
      "_model_module": "@jupyter-widgets/base",
      "_model_module_version": "1.2.0",
      "_model_name": "LayoutModel",
      "_view_count": null,
      "_view_module": "@jupyter-widgets/base",
      "_view_module_version": "1.2.0",
      "_view_name": "LayoutView",
      "align_content": null,
      "align_items": null,
      "align_self": null,
      "border": null,
      "bottom": null,
      "display": null,
      "flex": null,
      "flex_flow": null,
      "grid_area": null,
      "grid_auto_columns": null,
      "grid_auto_flow": null,
      "grid_auto_rows": null,
      "grid_column": null,
      "grid_gap": null,
      "grid_row": null,
      "grid_template_areas": null,
      "grid_template_columns": null,
      "grid_template_rows": null,
      "height": null,
      "justify_content": null,
      "justify_items": null,
      "left": null,
      "margin": null,
      "max_height": null,
      "max_width": null,
      "min_height": null,
      "min_width": null,
      "object_fit": null,
      "object_position": null,
      "order": null,
      "overflow": null,
      "overflow_x": null,
      "overflow_y": null,
      "padding": null,
      "right": null,
      "top": null,
      "visibility": null,
      "width": null
     }
    },
    "837002d7bb14427cbbf596749ba8e024": {
     "model_module": "@jupyter-widgets/controls",
     "model_module_version": "1.5.0",
     "model_name": "DescriptionStyleModel",
     "state": {
      "_model_module": "@jupyter-widgets/controls",
      "_model_module_version": "1.5.0",
      "_model_name": "DescriptionStyleModel",
      "_view_count": null,
      "_view_module": "@jupyter-widgets/base",
      "_view_module_version": "1.2.0",
      "_view_name": "StyleView",
      "description_width": ""
     }
    },
    "91dfe162f8e04f6e91f3284902496fbb": {
     "model_module": "@jupyter-widgets/base",
     "model_module_version": "1.2.0",
     "model_name": "LayoutModel",
     "state": {
      "_model_module": "@jupyter-widgets/base",
      "_model_module_version": "1.2.0",
      "_model_name": "LayoutModel",
      "_view_count": null,
      "_view_module": "@jupyter-widgets/base",
      "_view_module_version": "1.2.0",
      "_view_name": "LayoutView",
      "align_content": null,
      "align_items": null,
      "align_self": null,
      "border": null,
      "bottom": null,
      "display": null,
      "flex": null,
      "flex_flow": null,
      "grid_area": null,
      "grid_auto_columns": null,
      "grid_auto_flow": null,
      "grid_auto_rows": null,
      "grid_column": null,
      "grid_gap": null,
      "grid_row": null,
      "grid_template_areas": null,
      "grid_template_columns": null,
      "grid_template_rows": null,
      "height": null,
      "justify_content": null,
      "justify_items": null,
      "left": null,
      "margin": null,
      "max_height": null,
      "max_width": null,
      "min_height": null,
      "min_width": null,
      "object_fit": null,
      "object_position": null,
      "order": null,
      "overflow": null,
      "overflow_x": null,
      "overflow_y": null,
      "padding": null,
      "right": null,
      "top": null,
      "visibility": null,
      "width": null
     }
    },
    "aa31529580844aa5b7b237eeb041cdfa": {
     "model_module": "@jupyter-widgets/controls",
     "model_module_version": "1.5.0",
     "model_name": "ProgressStyleModel",
     "state": {
      "_model_module": "@jupyter-widgets/controls",
      "_model_module_version": "1.5.0",
      "_model_name": "ProgressStyleModel",
      "_view_count": null,
      "_view_module": "@jupyter-widgets/base",
      "_view_module_version": "1.2.0",
      "_view_name": "StyleView",
      "bar_color": null,
      "description_width": ""
     }
    },
    "ba1e599805aa4cfdb7ce1c4a0bf1d9ab": {
     "model_module": "@jupyter-widgets/controls",
     "model_module_version": "1.5.0",
     "model_name": "FloatProgressModel",
     "state": {
      "_dom_classes": [],
      "_model_module": "@jupyter-widgets/controls",
      "_model_module_version": "1.5.0",
      "_model_name": "FloatProgressModel",
      "_view_count": null,
      "_view_module": "@jupyter-widgets/controls",
      "_view_module_version": "1.5.0",
      "_view_name": "ProgressView",
      "bar_style": "success",
      "description": "",
      "description_tooltip": null,
      "layout": "IPY_MODEL_22047341ff9c4da7a067a4962bf1d4fa",
      "max": 363423424,
      "min": 0,
      "orientation": "horizontal",
      "style": "IPY_MODEL_aa31529580844aa5b7b237eeb041cdfa",
      "value": 363423424
     }
    },
    "d029492792e64e7fb624ca53b5eebb4c": {
     "model_module": "@jupyter-widgets/controls",
     "model_module_version": "1.5.0",
     "model_name": "HTMLModel",
     "state": {
      "_dom_classes": [],
      "_model_module": "@jupyter-widgets/controls",
      "_model_module_version": "1.5.0",
      "_model_name": "HTMLModel",
      "_view_count": null,
      "_view_module": "@jupyter-widgets/controls",
      "_view_module_version": "1.5.0",
      "_view_name": "HTMLView",
      "description": "",
      "description_tooltip": null,
      "layout": "IPY_MODEL_550053d682504a1ba80ab0e753db1b70",
      "placeholder": "​",
      "style": "IPY_MODEL_73efe8a77a464435b2cb01178eb9aeab",
      "value": " 363M/363M [00:09&lt;00:00, 38.7MB/s]"
     }
    },
    "f4a7fbcd389c4916a531f45dd5bb8746": {
     "model_module": "@jupyter-widgets/controls",
     "model_module_version": "1.5.0",
     "model_name": "HBoxModel",
     "state": {
      "_dom_classes": [],
      "_model_module": "@jupyter-widgets/controls",
      "_model_module_version": "1.5.0",
      "_model_name": "HBoxModel",
      "_view_count": null,
      "_view_module": "@jupyter-widgets/controls",
      "_view_module_version": "1.5.0",
      "_view_name": "HBoxView",
      "box_style": "",
      "children": [
       "IPY_MODEL_2c4b895d957546d593b2d4082d874a62",
       "IPY_MODEL_ba1e599805aa4cfdb7ce1c4a0bf1d9ab",
       "IPY_MODEL_d029492792e64e7fb624ca53b5eebb4c"
      ],
      "layout": "IPY_MODEL_91dfe162f8e04f6e91f3284902496fbb"
     }
    }
   }
  }
 },
 "nbformat": 4,
 "nbformat_minor": 1
}
